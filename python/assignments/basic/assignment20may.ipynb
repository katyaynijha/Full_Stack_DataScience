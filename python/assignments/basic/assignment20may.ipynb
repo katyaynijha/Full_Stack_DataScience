{
 "cells": [
  {
   "cell_type": "markdown",
   "id": "98a44f2b",
   "metadata": {},
   "source": [
    "# Python Basic-1 \n",
    "## 20th May\n",
    "\n",
    "1. What are keywords in python? Using the keyword library, print all the python keywords.\n",
    "Ans- Keywords are building blocks of python. These are special reserved words which have specific meaning and defined way to use it. "
   ]
  },
  {
   "cell_type": "code",
   "execution_count": 2,
   "id": "255f4291",
   "metadata": {},
   "outputs": [
    {
     "name": "stdout",
     "output_type": "stream",
     "text": [
      "['False', 'None', 'True', 'and', 'as', 'assert', 'async', 'await', 'break', 'class', 'continue', 'def', 'del', 'elif', 'else', 'except', 'finally', 'for', 'from', 'global', 'if', 'import', 'in', 'is', 'lambda', 'nonlocal', 'not', 'or', 'pass', 'raise', 'return', 'try', 'while', 'with', 'yield']\n"
     ]
    }
   ],
   "source": [
    "import keyword as kw\n",
    "print(kw.kwlist)"
   ]
  },
  {
   "cell_type": "markdown",
   "id": "e4bc0348",
   "metadata": {},
   "source": [
    "2.  What are the rules to create variables in python?\n",
    "Ans- A variable can have a short name (like x and y) or a more descriptive name (age, carname, total_volume) which starts with alpha-numeric(a-z, A-Z,0-9) letter or underscore. Variable name cannot start with integer and it should not be keyword name. "
   ]
  },
  {
   "cell_type": "code",
   "execution_count": 3,
   "id": "79928608",
   "metadata": {},
   "outputs": [],
   "source": [
    "# For example\n",
    "name=\"keshu\"\n",
    "roll_no=\"21\"\n",
    "_class=2\n",
    "std2 =\"B\"\n",
    "#Invalid variable names\n",
    "# 2std,roll-no,std 2"
   ]
  },
  {
   "cell_type": "markdown",
   "id": "b52805ef",
   "metadata": {},
   "source": [
    "3.  What are the standards and conventions followed for the nomenclature of variables in python to improve code readability and maintainability?\n",
    "Ans- \n",
    "a) A variable name must start with a letter or the underscore character\n",
    "b) A variable name cannot start with a number\n",
    "c) A variable name can only contain alpha-numeric characters and         \n",
    "   underscores (A-z, 0-9, and _ )\n",
    "d) Variable names are case-sensitive (age, Age and AGE are three\n",
    "different   variables)\n",
    "\n",
    "4. What will happen if a keyword is used as a variable name?\n",
    "Ans-If a keyword is used as a variable name, it will give an ERROR.We cannot use keyword or function or identifiers as variable name as they are used  to define syntax and structure of python language.\n"
   ]
  },
  {
   "cell_type": "code",
   "execution_count": 4,
   "id": "94f35663",
   "metadata": {},
   "outputs": [
    {
     "ename": "SyntaxError",
     "evalue": "invalid syntax (2085843885.py, line 1)",
     "output_type": "error",
     "traceback": [
      "\u001b[1;36m  Cell \u001b[1;32mIn[4], line 1\u001b[1;36m\u001b[0m\n\u001b[1;33m    else=\"it's a keyword\"\u001b[0m\n\u001b[1;37m    ^\u001b[0m\n\u001b[1;31mSyntaxError\u001b[0m\u001b[1;31m:\u001b[0m invalid syntax\n"
     ]
    }
   ],
   "source": [
    "else=\"it's a keyword\""
   ]
  },
  {
   "cell_type": "code",
   "execution_count": 5,
   "id": "329882a8",
   "metadata": {},
   "outputs": [
    {
     "ename": "SyntaxError",
     "evalue": "invalid syntax (4084389239.py, line 1)",
     "output_type": "error",
     "traceback": [
      "\u001b[1;36m  Cell \u001b[1;32mIn[5], line 1\u001b[1;36m\u001b[0m\n\u001b[1;33m    class=\"keyword as a variable name\"\u001b[0m\n\u001b[1;37m         ^\u001b[0m\n\u001b[1;31mSyntaxError\u001b[0m\u001b[1;31m:\u001b[0m invalid syntax\n"
     ]
    }
   ],
   "source": [
    "class=\"keyword as a variable name\""
   ]
  },
  {
   "cell_type": "markdown",
   "id": "6606a143",
   "metadata": {},
   "source": [
    "5. For what purpose def keyword is used?\n",
    "Ans- It is used to create a user defined function.\n",
    "\n",
    "6. What is the operation of this special character ‘\\’?\n",
    "Ans- Python treats '\\' as escape characters. For example-\n",
    "  '\\n' - newline\n",
    "  '\\r' - carraige return\n",
    "  '\\t' - tab"
   ]
  },
  {
   "cell_type": "markdown",
   "id": "f651b0da",
   "metadata": {},
   "source": [
    "6. Give an example of the following conditions:\n",
    "  (i) Homogeneous list\n",
    "  (ii) Heterogeneous set\n",
    "  (iii) Homogeneous tuple\n",
    "Ans-Homogeneous contains SINGLE type of data and hetrogeneous contains DIFFERENT types of data .   "
   ]
  },
  {
   "cell_type": "code",
   "execution_count": 7,
   "id": "3fb72827",
   "metadata": {},
   "outputs": [],
   "source": [
    "#list of prime numbers upto 20\n",
    "list1=[2,3,5,7,11,13,17,19] #Homogeneous list\n",
    "\n",
    "# collection of car brands\n",
    "tuple1=(\"mahindra\",\"jeep\",\"maruti\",\"honda\",\"tata\") # Homogenous tuple\n",
    "\n",
    "set1={\"mango\",12,\"cherry\",15,7.25,False}  #Hetrogenous set\n"
   ]
  },
  {
   "cell_type": "markdown",
   "id": "7aa2e988",
   "metadata": {},
   "source": [
    "8. Explain the mutable and immutable data types with proper explanation & examples.\n",
    "Ans- **Mutable data type-** Those datatypes which can be change or modify once after it get initialized. List,set and dictionary are the examples of mutable datatypes. "
   ]
  },
  {
   "cell_type": "code",
   "execution_count": 8,
   "id": "8f7a70f6",
   "metadata": {},
   "outputs": [
    {
     "data": {
      "text/plain": [
       "[12, 34, 'learn', 'python']"
      ]
     },
     "execution_count": 8,
     "metadata": {},
     "output_type": "execute_result"
    }
   ],
   "source": [
    "# Modify the data inside list using index\n",
    "list1=[12,34,\"ram\",\"python\"]\n",
    "list1[2]=\"learn\"\n",
    "list1"
   ]
  },
  {
   "cell_type": "code",
   "execution_count": 10,
   "id": "aa2d5266",
   "metadata": {},
   "outputs": [
    {
     "name": "stdout",
     "output_type": "stream",
     "text": [
      "{'my', 'India', '30', 'is', 'age', 'in', 'live', 'I'}\n"
     ]
    }
   ],
   "source": [
    "# Modify the data inside set using function update()\n",
    "set1={\"my\",\"age\",\"is\",\"30\"}\n",
    "set2={\"I\",\"live\",\"in\",\"India\"}\n",
    "set1.update(set2)\n",
    "print(set1)"
   ]
  },
  {
   "cell_type": "code",
   "execution_count": 11,
   "id": "5d273e89",
   "metadata": {},
   "outputs": [
    {
     "name": "stdout",
     "output_type": "stream",
     "text": [
      "{'r1': 13, 'r2': 15, 'r3': 20, 'r4': 21}\n"
     ]
    }
   ],
   "source": [
    "# Modify the data inside dictionary using key as index\n",
    "dict1={\"r1\":12,\"r2\":15,\"r3\":20,\"r4\":21}\n",
    "dict1[\"r1\"]=13\n",
    "print(dict1)"
   ]
  },
  {
   "cell_type": "markdown",
   "id": "406b7e71",
   "metadata": {},
   "source": [
    "**Non-mutable data type**- Those data types which cannot be changed or modify once they are created. Immutable objects change their memory address when they are modified. Integer, float, strings and Tuple are immutable data types."
   ]
  },
  {
   "cell_type": "code",
   "execution_count": 12,
   "id": "d355eb6c",
   "metadata": {},
   "outputs": [
    {
     "name": "stdout",
     "output_type": "stream",
     "text": [
      "memory address before alteration= 1362224742992\n",
      "memory address after alteration= 1362224743088\n"
     ]
    }
   ],
   "source": [
    "# Check memory address of integer before and after alteration, \n",
    "#they should be different\n",
    "a=12\n",
    "mem1=id(a)\n",
    "print(\"memory address before alteration=\",mem1)\n",
    "a=15\n",
    "mem2=id(a)\n",
    "print(\"memory address after alteration=\",mem2)"
   ]
  },
  {
   "cell_type": "code",
   "execution_count": 13,
   "id": "129ce0f5",
   "metadata": {},
   "outputs": [
    {
     "ename": "TypeError",
     "evalue": "'str' object does not support item assignment",
     "output_type": "error",
     "traceback": [
      "\u001b[1;31m---------------------------------------------------------------------------\u001b[0m",
      "\u001b[1;31mTypeError\u001b[0m                                 Traceback (most recent call last)",
      "Cell \u001b[1;32mIn[13], line 3\u001b[0m\n\u001b[0;32m      1\u001b[0m \u001b[38;5;66;03m# Try to change sttring using index\u001b[39;00m\n\u001b[0;32m      2\u001b[0m char\u001b[38;5;241m=\u001b[39m\u001b[38;5;124m\"\u001b[39m\u001b[38;5;124mkatyayni\u001b[39m\u001b[38;5;124m\"\u001b[39m\n\u001b[1;32m----> 3\u001b[0m char[\u001b[38;5;241m7\u001b[39m]\u001b[38;5;241m=\u001b[39m\u001b[38;5;124m\"\u001b[39m\u001b[38;5;124me\u001b[39m\u001b[38;5;124m\"\u001b[39m\n\u001b[0;32m      4\u001b[0m \u001b[38;5;28mprint\u001b[39m(char)\n",
      "\u001b[1;31mTypeError\u001b[0m: 'str' object does not support item assignment"
     ]
    }
   ],
   "source": [
    "# Try to change string using index\n",
    "char=\"katyayni\"\n",
    "char[7]=\"e\"\n",
    "print(char)"
   ]
  },
  {
   "cell_type": "code",
   "execution_count": null,
   "id": "4a0acc3a",
   "metadata": {},
   "outputs": [],
   "source": [
    "# 9. Write a code to create the given structure using only for loop. asterick pyramid\n",
    "a=5\n",
    "  # outer loop\n",
    "for i in range(a):\n",
    "    for j in range(a-i-1):\n",
    "        print(\" \",end='')\n",
    "    for j in range(i+1):\n",
    "        print(\"*\",end=' ')\n",
    "       \n",
    "    print()        "
   ]
  },
  {
   "cell_type": "code",
   "execution_count": null,
   "id": "1f70c3a8",
   "metadata": {},
   "outputs": [],
   "source": [
    "# 10. Write a code to create the given structure using while loop.\n",
    "num=int(input())\n",
    "row=num\n",
    "while row<=num:\n",
    "    space=num-row\n",
    "    while space>0:\n",
    "        print(\" \",end='')\n",
    "        space=space-1\n",
    "    star=2*row-1\n",
    "    while star>0:\n",
    "        print(\"|\",end='')\n",
    "        star=star-1\n",
    "    row=row-1 \n",
    "    print()\n",
    "    "
   ]
  },
  {
   "cell_type": "code",
   "execution_count": null,
   "id": "3f373530",
   "metadata": {},
   "outputs": [],
   "source": []
  }
 ],
 "metadata": {
  "kernelspec": {
   "display_name": "Python 3 (ipykernel)",
   "language": "python",
   "name": "python3"
  },
  "language_info": {
   "codemirror_mode": {
    "name": "ipython",
    "version": 3
   },
   "file_extension": ".py",
   "mimetype": "text/x-python",
   "name": "python",
   "nbconvert_exporter": "python",
   "pygments_lexer": "ipython3",
   "version": "3.10.9"
  }
 },
 "nbformat": 4,
 "nbformat_minor": 5
}
