{
 "cells": [
  {
   "cell_type": "markdown",
   "id": "d995092b",
   "metadata": {},
   "source": [
    "# Python basic-2\n",
    "## 21st may\n",
    "1. Create two int type variables, apply addition, subtraction, division and multiplications\n",
    "   and store the results in variables. Then print the data in the following format by calling the\n",
    "   variables:"
   ]
  },
  {
   "cell_type": "code",
   "execution_count": 4,
   "id": "81cfb1e7",
   "metadata": {},
   "outputs": [
    {
     "name": "stdout",
     "output_type": "stream",
     "text": [
      "First variable is= 40 & Second variable is= 8\n",
      "Addition 40 + 8 = 48\n",
      "Subtraction 40 - = 32\n",
      "multiplication 40 * 8 = 320\n",
      "Division 40 / 8 = 5.0\n"
     ]
    }
   ],
   "source": [
    "a=40\n",
    "b=8\n",
    "add=a+b\n",
    "sub=a-b\n",
    "mul=a*b\n",
    "div=a/b\n",
    "print(\"First variable is=\",a,\"& Second variable is=\",b)\n",
    "print(\"Addition\",a,\"+\",b,\"=\",add)\n",
    "print(\"Subtraction\",a,\"-\",\"=\",sub)\n",
    "print(\"multiplication\",a,\"*\",b,\"=\",mul)\n",
    "print(\"Division\",a,\"/\",b,\"=\",div)"
   ]
  },
  {
   "cell_type": "markdown",
   "id": "5d6db428",
   "metadata": {},
   "source": [
    "2. What is the difference between the following operators:\n",
    "Ans- \n",
    "(i) ‘/’ & ‘//’- Both are arithmetic operators.'/' used for division gives output in FLOAT while '//' used for floor division which round off result and gives lower bound INTEGER value.\n",
    "(ii) ‘** & ‘^’ - ** is arithmetic operator used to find power of any integer or float variable  while '^' is Bitwise operator, known as XOR used for addition of binary numbers.Xor is a logical operator which gives 1 as output when either of a operand is 1 and gives 0 if both opearnds are SAME.\n",
    "10-1010\n",
    "04-0100\n",
    "________\n",
    "14-1110"
   ]
  },
  {
   "cell_type": "code",
   "execution_count": 7,
   "id": "9c7633ab",
   "metadata": {},
   "outputs": [
    {
     "name": "stdout",
     "output_type": "stream",
     "text": [
      "2.5\n",
      "2\n",
      "10000\n",
      "14\n"
     ]
    },
    {
     "data": {
      "text/plain": [
       "'0b1110'"
      ]
     },
     "execution_count": 7,
     "metadata": {},
     "output_type": "execute_result"
    }
   ],
   "source": [
    "#'/','//','**','^'\n",
    "a=10\n",
    "b=4\n",
    "print(a/b)\n",
    "print(a//b)\n",
    "print(a**b)\n",
    "print(a^b) \n",
    "bin(14)"
   ]
  },
  {
   "cell_type": "markdown",
   "id": "57769288",
   "metadata": {},
   "source": [
    "3. List the logical operators.\n",
    " Ans-\n",
    "Operator\tExample\tMeaning\n",
    "and\t        a and b\tLogical AND: True only if both the operands are True\n",
    "or\t        a or b\tLogical OR:  True if at least one of the operands is True\n",
    "not  \t    not a\tLogical NOT: True if the operand is False and vice-versa."
   ]
  },
  {
   "cell_type": "markdown",
   "id": "692095b6",
   "metadata": {},
   "source": [
    "4. Explain right shift operator and left shift operator with examples.\n",
    "Ans- Both are bitwise shift operators. \n",
    "Left shift operator shifts bits to the left and fills void with 0 on right side.\n",
    "Ex- a=5 0000 0101, a<<1  0000 1010 a<<1=10\n",
    "  a<<2  0001 0100, bin(20)=10100,  a<<2=20"
   ]
  },
  {
   "cell_type": "code",
   "execution_count": 4,
   "id": "148a3ac6",
   "metadata": {},
   "outputs": [
    {
     "name": "stdout",
     "output_type": "stream",
     "text": [
      "10\n",
      "20\n"
     ]
    }
   ],
   "source": [
    "a=5\n",
    "print(a<<1)\n",
    "print(a<<2)"
   ]
  },
  {
   "cell_type": "markdown",
   "id": "c6791420",
   "metadata": {},
   "source": [
    "Right bitwise opearator shift bits towards right and void fills with 0 on the left side.\n",
    "Ex- a=5, 0000 0101, a>>1 0000 0010, a=2\n",
    "   a>>2, 0000 0101, a>>2 0000 0001, a=1"
   ]
  },
  {
   "cell_type": "code",
   "execution_count": 6,
   "id": "00754535",
   "metadata": {},
   "outputs": [
    {
     "name": "stdout",
     "output_type": "stream",
     "text": [
      "2\n",
      "1\n"
     ]
    }
   ],
   "source": [
    "a=5\n",
    "print(a>>1)\n",
    "print(a>>2)"
   ]
  },
  {
   "cell_type": "code",
   "execution_count": 2,
   "id": "937667e8",
   "metadata": {},
   "outputs": [
    {
     "name": "stdout",
     "output_type": "stream",
     "text": [
      "10 is in the list and no. of occurences is= 3\n"
     ]
    }
   ],
   "source": [
    "# Q.5. Create a list containing int type data of length 15. Then write a code to check if 10 is\n",
    "# present in the list or not.\n",
    "list1=[10,2,14,45,24,34,15,43,65,23,54,76,10,34,10]\n",
    "count=0\n",
    "#print(len(list1))\n",
    "for i in range(len(list1)):\n",
    "    if list1[i]==10:\n",
    "        count+=1\n",
    "if count>0:\n",
    "    print(\"10 is in the list and no. of occurences is=\",count)\n",
    "else:\n",
    "    print(\"Not found\")\n"
   ]
  },
  {
   "cell_type": "code",
   "execution_count": 5,
   "id": "443fb8ca",
   "metadata": {},
   "outputs": [
    {
     "data": {
      "text/plain": [
       "'0b10'"
      ]
     },
     "execution_count": 5,
     "metadata": {},
     "output_type": "execute_result"
    }
   ],
   "source": [
    "bin(2)"
   ]
  },
  {
   "cell_type": "code",
   "execution_count": null,
   "id": "cd46e10e",
   "metadata": {},
   "outputs": [],
   "source": []
  }
 ],
 "metadata": {
  "kernelspec": {
   "display_name": "Python 3 (ipykernel)",
   "language": "python",
   "name": "python3"
  },
  "language_info": {
   "codemirror_mode": {
    "name": "ipython",
    "version": 3
   },
   "file_extension": ".py",
   "mimetype": "text/x-python",
   "name": "python",
   "nbconvert_exporter": "python",
   "pygments_lexer": "ipython3",
   "version": "3.10.9"
  }
 },
 "nbformat": 4,
 "nbformat_minor": 5
}
