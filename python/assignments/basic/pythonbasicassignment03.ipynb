{
 "cells": [
  {
   "cell_type": "markdown",
   "id": "ec1ad463",
   "metadata": {},
   "source": [
    "# Assignment-03"
   ]
  },
  {
   "cell_type": "code",
   "execution_count": null,
   "id": "1572445a",
   "metadata": {},
   "outputs": [],
   "source": [
    "#1. Why are functions advantageous to have in your programs?\n",
    "\"\"\" \n",
    "Advantages of Funtions-\n",
    "1. Code Reusability enables to use one function within another function and thus\n",
    "save time and space, make program short and efficient.\n",
    "2. Reduce complexity by breaking complex program into smaller blocks\n",
    "3. Encapsulation- It enables usage of same variable and at the same time \n",
    "separates local variables of two functions.\n",
    "4. Testing and Debugging become easier with function \n",
    "\"\"\""
   ]
  },
  {
   "cell_type": "code",
   "execution_count": 5,
   "id": "239c9c8c",
   "metadata": {},
   "outputs": [],
   "source": [
    "#2.When does the code in a function run:when it's specified or when it's called?\n",
    "\"\"\"\n",
    "The code in a function run when it is called.\n",
    "\"\"\"\n",
    "def hello():\n",
    "    return \"hello\"\n",
    "# we run the program but  didn't get any output ,we need to call it"
   ]
  },
  {
   "cell_type": "code",
   "execution_count": 6,
   "id": "3b9440e2",
   "metadata": {},
   "outputs": [
    {
     "data": {
      "text/plain": [
       "'hello'"
      ]
     },
     "execution_count": 6,
     "metadata": {},
     "output_type": "execute_result"
    }
   ],
   "source": [
    "hello()"
   ]
  },
  {
   "cell_type": "code",
   "execution_count": null,
   "id": "4ae61f50",
   "metadata": {},
   "outputs": [],
   "source": [
    "# 3. What statement creates a function?\n",
    "\"\"\"\n",
    "def keyword used to create function\n",
    "syntax= def function_name():\n",
    "\"\"\""
   ]
  },
  {
   "cell_type": "code",
   "execution_count": 7,
   "id": "148fd952",
   "metadata": {},
   "outputs": [
    {
     "name": "stdout",
     "output_type": "stream",
     "text": [
      "1st num: 3\n",
      "2nd num: 5\n"
     ]
    },
    {
     "data": {
      "text/plain": [
       "8"
      ]
     },
     "execution_count": 7,
     "metadata": {},
     "output_type": "execute_result"
    }
   ],
   "source": [
    "# 4. What is the difference between a function and a function call?\n",
    "\"\"\"\n",
    "Function just contain the block of code which perform some specific task, but\n",
    "it will execute or run only when we call function. So function call is used to \n",
    "execute the block of code to get desired output. \n",
    "\"\"\"\n",
    "def add():\n",
    "    a=int(input(\"1st num: \"))\n",
    "    b=int(input(\"2nd num: \"))\n",
    "    return a+b\n",
    "add()"
   ]
  },
  {
   "cell_type": "code",
   "execution_count": 21,
   "id": "00841ea9",
   "metadata": {},
   "outputs": [
    {
     "name": "stdout",
     "output_type": "stream",
     "text": [
      "Global variable:  10\n",
      "Local variable:  8\n"
     ]
    }
   ],
   "source": [
    "# 5. How many global scopes are there in a Python program? \n",
    "#    How many local scopes?\n",
    "\"\"\"\n",
    "Global scopes contain variable or function which is defined outside of the\n",
    "function or say at top-level scopes of program, known as global variables\n",
    "or global function which can be access anywhere inside program. \n",
    "The Number of global scope is ONE.\n",
    "On the other hand Local scopes contain variables or function defined inside \n",
    "of the function block. Unlike global variable, it cannot be accessed outside\n",
    "of the function. The number of local scopes depend upon the number of times\n",
    "a function has been called inside the program. Each function call creates a \n",
    "NEW local scope.\n",
    "\n",
    "\"\"\"\n",
    "x=10\n",
    "def var1():\n",
    "    a=8\n",
    "    print(\"Local variable: \",a)\n",
    "print(\"Global variable: \",x)\n",
    "var1()\n"
   ]
  },
  {
   "cell_type": "code",
   "execution_count": 22,
   "id": "a20d9d90",
   "metadata": {},
   "outputs": [
    {
     "name": "stdout",
     "output_type": "stream",
     "text": [
      "Local variable:  8\n",
      "Global variable:  10\n"
     ]
    },
    {
     "ename": "NameError",
     "evalue": "name 'a' is not defined",
     "output_type": "error",
     "traceback": [
      "\u001b[1;31m---------------------------------------------------------------------------\u001b[0m",
      "\u001b[1;31mNameError\u001b[0m                                 Traceback (most recent call last)",
      "Cell \u001b[1;32mIn[22], line 13\u001b[0m\n\u001b[0;32m     11\u001b[0m     \u001b[38;5;66;03m# global variable defined once can be used anywhere \u001b[39;00m\n\u001b[0;32m     12\u001b[0m var2()\n\u001b[1;32m---> 13\u001b[0m \u001b[38;5;28mprint\u001b[39m(\u001b[38;5;124m\"\u001b[39m\u001b[38;5;124mLocal variable outside of function: \u001b[39m\u001b[38;5;124m\"\u001b[39m,\u001b[43ma\u001b[49m)\n",
      "\u001b[1;31mNameError\u001b[0m: name 'a' is not defined"
     ]
    }
   ],
   "source": [
    "# 6. What happens to variables in a local scope when the function call returns?\n",
    "\"\"\"\n",
    "Each time function call returns, the local scope is destroyed. the memory \n",
    "allocated to local scopes freed up for other uses. So, accessing local variable\n",
    "outside of function gives NameError that is variable is not defined\n",
    "\n",
    "\"\"\"\n",
    "def var2():\n",
    "    var1()  # calling function create a new local scope\n",
    "    print(\"Global variable: \",x) \n",
    "    # global variable defined once can be used anywhere \n",
    "var2()\n",
    "print(\"Local variable outside of function: \",a) # gives NameError "
   ]
  },
  {
   "cell_type": "code",
   "execution_count": 23,
   "id": "b608bba7",
   "metadata": {},
   "outputs": [
    {
     "data": {
      "text/plain": [
       "20"
      ]
     },
     "execution_count": 23,
     "metadata": {},
     "output_type": "execute_result"
    }
   ],
   "source": [
    "#7. What is the concept of a return value? Is it possible to have a return \n",
    "#   value in an expression?\n",
    "\"\"\"\n",
    "Return value refer to the value that function send back to the caller when \n",
    "the function is called. return statement is followed by value or an expression.\n",
    "But it is not possible to have a return value in an expression. The reason is \n",
    "when function return a value, it stored in some variable or used as an operands\n",
    "of an expression, so cannot return value in an expression.\n",
    "\"\"\"\n",
    "def mul(a,b):\n",
    "    return a*b \n",
    "mul(4,5)"
   ]
  },
  {
   "cell_type": "code",
   "execution_count": 27,
   "id": "5eda4391",
   "metadata": {},
   "outputs": [
    {
     "name": "stdout",
     "output_type": "stream",
     "text": [
      "None\n"
     ]
    }
   ],
   "source": [
    "# 8. If a function does not have a return statement, what is the return value\n",
    "#    of a call to that function?\n",
    "\"\"\"\n",
    "If a function does not have a return statement,the return value of a call to \n",
    "that function will be None.\n",
    "\"\"\"\n",
    "def add(a,b):\n",
    "    c=a+b\n",
    "print(add(6,7))    "
   ]
  },
  {
   "cell_type": "code",
   "execution_count": 28,
   "id": "442b7380",
   "metadata": {},
   "outputs": [
    {
     "ename": "UnboundLocalError",
     "evalue": "local variable 'x' referenced before assignment",
     "output_type": "error",
     "traceback": [
      "\u001b[1;31m---------------------------------------------------------------------------\u001b[0m",
      "\u001b[1;31mUnboundLocalError\u001b[0m                         Traceback (most recent call last)",
      "Cell \u001b[1;32mIn[28], line 10\u001b[0m\n\u001b[0;32m      8\u001b[0m     x\u001b[38;5;241m+\u001b[39m\u001b[38;5;241m=\u001b[39m\u001b[38;5;241m1\u001b[39m\n\u001b[0;32m      9\u001b[0m     \u001b[38;5;28mprint\u001b[39m(\u001b[38;5;124m\"\u001b[39m\u001b[38;5;124mGlobal var increased by 1: \u001b[39m\u001b[38;5;124m\"\u001b[39m,x)\n\u001b[1;32m---> 10\u001b[0m \u001b[43mincre\u001b[49m\u001b[43m(\u001b[49m\u001b[43m)\u001b[49m \n\u001b[0;32m     11\u001b[0m \u001b[38;5;28mprint\u001b[39m(x)\n",
      "Cell \u001b[1;32mIn[28], line 8\u001b[0m, in \u001b[0;36mincre\u001b[1;34m()\u001b[0m\n\u001b[0;32m      7\u001b[0m \u001b[38;5;28;01mdef\u001b[39;00m \u001b[38;5;21mincre\u001b[39m():\n\u001b[1;32m----> 8\u001b[0m     x\u001b[38;5;241m+\u001b[39m\u001b[38;5;241m=\u001b[39m\u001b[38;5;241m1\u001b[39m\n\u001b[0;32m      9\u001b[0m     \u001b[38;5;28mprint\u001b[39m(\u001b[38;5;124m\"\u001b[39m\u001b[38;5;124mGlobal var increased by 1: \u001b[39m\u001b[38;5;124m\"\u001b[39m,x)\n",
      "\u001b[1;31mUnboundLocalError\u001b[0m: local variable 'x' referenced before assignment"
     ]
    }
   ],
   "source": [
    "# 9. How do you make a function variable refer to the global variable?\n",
    "\"\"\"\n",
    "Using global keyword, we can make a function variable refer to the global \n",
    "variable.\n",
    "\"\"\"\n",
    "x=90   # global variable\n",
    "def incre():\n",
    "    x+=1\n",
    "    print(\"Global var increased by 1: \",x)\n",
    "incre() "
   ]
  },
  {
   "cell_type": "code",
   "execution_count": 29,
   "id": "b6c87e6d",
   "metadata": {},
   "outputs": [
    {
     "name": "stdout",
     "output_type": "stream",
     "text": [
      "Global var:  90\n",
      "Global var increased by 1:  91\n"
     ]
    }
   ],
   "source": [
    "x=90   # global variable\n",
    "def incre():\n",
    "    global x\n",
    "    x+=1\n",
    "    print(\"Global var increased by 1: \",x)\n",
    "print(\"Global var: \",x)    \n",
    "incre() "
   ]
  },
  {
   "cell_type": "code",
   "execution_count": 30,
   "id": "fae1879a",
   "metadata": {},
   "outputs": [
    {
     "name": "stdout",
     "output_type": "stream",
     "text": [
      "<class 'NoneType'>\n"
     ]
    }
   ],
   "source": [
    "# 10. What is the data type of None?\n",
    "\"\"\" The data type of None is <None Type>.None is an object of None Type class\"\"\"\n",
    "a=None\n",
    "print(type(a))   "
   ]
  },
  {
   "cell_type": "code",
   "execution_count": 31,
   "id": "d2d8957e",
   "metadata": {},
   "outputs": [
    {
     "ename": "ModuleNotFoundError",
     "evalue": "No module named 'areallyourpetsnamederic'",
     "output_type": "error",
     "traceback": [
      "\u001b[1;31m---------------------------------------------------------------------------\u001b[0m",
      "\u001b[1;31mModuleNotFoundError\u001b[0m                       Traceback (most recent call last)",
      "Cell \u001b[1;32mIn[31], line 2\u001b[0m\n\u001b[0;32m      1\u001b[0m \u001b[38;5;66;03m# 11. What does the sentence import areallyourpetsnamederic do?\u001b[39;00m\n\u001b[1;32m----> 2\u001b[0m \u001b[38;5;28;01mimport\u001b[39;00m \u001b[38;5;21;01mareallyourpetsnamederic\u001b[39;00m \u001b[38;5;28;01mas\u001b[39;00m \u001b[38;5;21;01mac\u001b[39;00m\n",
      "\u001b[1;31mModuleNotFoundError\u001b[0m: No module named 'areallyourpetsnamederic'"
     ]
    }
   ],
   "source": [
    "# 11. What does the sentence import areallyourpetsnamederic do?\n",
    "\"\"\" \n",
    "This sentence will give Error- Module not found. There is no such module.\n",
    "\"\"\"\n",
    "import areallyourpetsnamederic as ac"
   ]
  },
  {
   "cell_type": "code",
   "execution_count": null,
   "id": "f42e613c",
   "metadata": {},
   "outputs": [],
   "source": [
    "# 12. If you had a bacon() feature in a spam module, what would you call it \n",
    "#     after importing spam?\n",
    "\"\"\"\n",
    "import spam\n",
    "spam.bacon()\n",
    "\"\"\""
   ]
  },
  {
   "cell_type": "code",
   "execution_count": null,
   "id": "4c4e6063",
   "metadata": {},
   "outputs": [],
   "source": [
    "# 13. What can you do to save a programme from crashing if it encounters an error?\n",
    "\"\"\"\n",
    "To save a program from crashing if it encounters error, we use Error handling \n",
    "to notify user about error and execute the process gracefully which cause error.\n",
    "This process is aclled Exception handling. \n",
    "\"\"\""
   ]
  },
  {
   "cell_type": "code",
   "execution_count": 32,
   "id": "c20ec414",
   "metadata": {},
   "outputs": [
    {
     "name": "stdout",
     "output_type": "stream",
     "text": [
      "1st number: 90\n",
      "2nd number: 0\n",
      "Denominator cannot be Zero\n"
     ]
    }
   ],
   "source": [
    "# 14. What is the purpose of the try clause? What is the purpose of the \n",
    "# except clause?\n",
    "\"\"\"try clause test the code for errors. except clause handle the error and let \n",
    "execute the code gracefully.\n",
    "\"\"\"\n",
    "try:\n",
    "    a=int(input(\"1st number: \"))\n",
    "    b=int(input(\"2nd number: \"))\n",
    "    print(a/b)\n",
    "except ZeroDivisionError:\n",
    "    print(\"Denominator cannot be Zero\")"
   ]
  },
  {
   "cell_type": "code",
   "execution_count": null,
   "id": "76fde194",
   "metadata": {},
   "outputs": [],
   "source": []
  }
 ],
 "metadata": {
  "kernelspec": {
   "display_name": "Python 3 (ipykernel)",
   "language": "python",
   "name": "python3"
  },
  "language_info": {
   "codemirror_mode": {
    "name": "ipython",
    "version": 3
   },
   "file_extension": ".py",
   "mimetype": "text/x-python",
   "name": "python",
   "nbconvert_exporter": "python",
   "pygments_lexer": "ipython3",
   "version": "3.10.9"
  }
 },
 "nbformat": 4,
 "nbformat_minor": 5
}
