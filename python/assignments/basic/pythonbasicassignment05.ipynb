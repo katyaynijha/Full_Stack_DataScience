{
 "cells": [
  {
   "cell_type": "markdown",
   "id": "5ebe41b9",
   "metadata": {},
   "source": [
    "# Assignment-05\n",
    "## Dictionary "
   ]
  },
  {
   "cell_type": "markdown",
   "id": "e925f224",
   "metadata": {},
   "source": [
    "1. What does an empty dictionary's code look like?"
   ]
  },
  {
   "cell_type": "code",
   "execution_count": 1,
   "id": "964bb860",
   "metadata": {},
   "outputs": [
    {
     "data": {
      "text/plain": [
       "dict"
      ]
     },
     "execution_count": 1,
     "metadata": {},
     "output_type": "execute_result"
    }
   ],
   "source": [
    "d={}\n",
    "type(d)"
   ]
  },
  {
   "cell_type": "markdown",
   "id": "d080b907",
   "metadata": {},
   "source": [
    "2. What is the value of a dictionary value with the key \"foo\" and the value 42?"
   ]
  },
  {
   "cell_type": "code",
   "execution_count": 2,
   "id": "5e66a611",
   "metadata": {},
   "outputs": [
    {
     "data": {
      "text/plain": [
       "{'foo': 42}"
      ]
     },
     "execution_count": 2,
     "metadata": {},
     "output_type": "execute_result"
    }
   ],
   "source": [
    "d={\"foo\":42}\n",
    "d"
   ]
  },
  {
   "cell_type": "markdown",
   "id": "9f662b9d",
   "metadata": {},
   "source": [
    "3. What is the most significant distinction between a dictionary and a list?\n",
    "\n",
    "Ans- A dictionary is an unordered collection of data in the form of key-value pair while a list is an ordered collection of index-value pair. "
   ]
  },
  {
   "cell_type": "code",
   "execution_count": 4,
   "id": "d75e9c38",
   "metadata": {},
   "outputs": [
    {
     "name": "stdout",
     "output_type": "stream",
     "text": [
      "grade\n",
      "fsds\n"
     ]
    }
   ],
   "source": [
    "dict1={\"key1\":\"name\",\"key2\":\"rollno\",\"key3\":\"grade\"}\n",
    "print(dict1[\"key3\"]) # value accessed through key\n",
    "list1=[\"ineuron\",[\"fsds\",\"da\",\"ba\",\"ml\"]]\n",
    "print(list1[1][0])  # item accessed via index"
   ]
  },
  {
   "cell_type": "markdown",
   "id": "a07c0bbf",
   "metadata": {},
   "source": [
    "4. What happens if you try to access spam[\"foo\"] if spam is {\"bar\": 100}?"
   ]
  },
  {
   "cell_type": "code",
   "execution_count": 5,
   "id": "518492bd",
   "metadata": {},
   "outputs": [
    {
     "ename": "KeyError",
     "evalue": "'foo'",
     "output_type": "error",
     "traceback": [
      "\u001b[1;31m---------------------------------------------------------------------------\u001b[0m",
      "\u001b[1;31mKeyError\u001b[0m                                  Traceback (most recent call last)",
      "Cell \u001b[1;32mIn[5], line 2\u001b[0m\n\u001b[0;32m      1\u001b[0m spam\u001b[38;5;241m=\u001b[39m{\u001b[38;5;124m\"\u001b[39m\u001b[38;5;124mbar\u001b[39m\u001b[38;5;124m\"\u001b[39m:\u001b[38;5;241m100\u001b[39m}\n\u001b[1;32m----> 2\u001b[0m \u001b[43mspam\u001b[49m\u001b[43m[\u001b[49m\u001b[38;5;124;43m\"\u001b[39;49m\u001b[38;5;124;43mfoo\u001b[39;49m\u001b[38;5;124;43m\"\u001b[39;49m\u001b[43m]\u001b[49m\n",
      "\u001b[1;31mKeyError\u001b[0m: 'foo'"
     ]
    }
   ],
   "source": [
    "spam={\"bar\":100}\n",
    "spam[\"foo\"]  # Keyerror"
   ]
  },
  {
   "cell_type": "markdown",
   "id": "ad2be370",
   "metadata": {},
   "source": [
    "5. If a dictionary is stored in spam, what is the difference between the expressions \"cat\" in spam and \"cat\" in spam.keys()?\n",
    "\n",
    "Ans- There is NO difference. The operator(in) will check in both expressions, whether \"cat\" is present in the spam as key or not."
   ]
  },
  {
   "cell_type": "code",
   "execution_count": 7,
   "id": "15f55910",
   "metadata": {},
   "outputs": [
    {
     "name": "stdout",
     "output_type": "stream",
     "text": [
      "False\n",
      "False\n"
     ]
    }
   ],
   "source": [
    "spam={\"foo\":42,\"bar\":100}\n",
    "check1=\"cat\" in spam\n",
    "print(check1)\n",
    "check2=\"cat\" in spam.keys()\n",
    "print(check2)"
   ]
  },
  {
   "cell_type": "markdown",
   "id": "77bacbc6",
   "metadata": {},
   "source": [
    "6. If a dictionary is stored in spam, what is the difference between the expressions \"cat\" in spam and \"cat\" in spam.values()?\n",
    "\n",
    "Ans- There is a difference. The operator(in) will check whether \"cat\" is present in the spam as key or not and in later expression, it check whether \"cat\" present in spam as value or not."
   ]
  },
  {
   "cell_type": "code",
   "execution_count": 11,
   "id": "3b1b4a72",
   "metadata": {},
   "outputs": [
    {
     "name": "stdout",
     "output_type": "stream",
     "text": [
      "False\n",
      "False\n",
      "True\n"
     ]
    }
   ],
   "source": [
    "spam={\"foo\":42,\"bar\":100,\"key3\":\"cat\"}\n",
    "check1=\"cat\" in spam\n",
    "print(check1)\n",
    "check2=\"cat\" in spam.keys()\n",
    "print(check2)\n",
    "check3=\"cat\" in spam.values()\n",
    "print(check3)"
   ]
  },
  {
   "cell_type": "markdown",
   "id": "771abe84",
   "metadata": {},
   "source": [
    "7. What is a shortcut for the following code?"
   ]
  },
  {
   "cell_type": "code",
   "execution_count": 13,
   "id": "8690f303",
   "metadata": {},
   "outputs": [
    {
     "name": "stdout",
     "output_type": "stream",
     "text": [
      "{'foo': 42, 'bar': 100, 'key3': 'cat', 'color': 'black'}\n",
      "{'foo': 42, 'bar': 100, 'key3': 'cat', 'color': 'black'}\n"
     ]
    }
   ],
   "source": [
    "if \"color\" not in spam:  # if statement check whether key \"color\" is in spam\n",
    "    spam[\"color\"]=\"black\" #if not then it assign value \"black\" to key \"color\"\n",
    "print(spam)\n",
    "spam.setdefault(\"color\",\"black\") # Shortcode for above\n",
    "print(spam)"
   ]
  },
  {
   "cell_type": "markdown",
   "id": "5455c347",
   "metadata": {},
   "source": [
    "8. How do you \"pretty print\" dictionary values using which module and function?\n",
    "\n",
    "Ans- Module- pprint and function-pprint()\n",
    "\"pretty print\" is used to print random data in a much presentable manner."
   ]
  },
  {
   "cell_type": "code",
   "execution_count": 19,
   "id": "fd0c709a",
   "metadata": {},
   "outputs": [
    {
     "name": "stdout",
     "output_type": "stream",
     "text": [
      "{'acads': ['10th', '12th', 'B.E'],\n",
      " 'age': 38,\n",
      " 'city': 'mysore',\n",
      " 'jobs': ('syntel', 'kbl'),\n",
      " 'name': 'katyayni',\n",
      " 'number': 76546}\n"
     ]
    }
   ],
   "source": [
    "import pprint as pp\n",
    "detail={\"name\":\"katyayni\", \"age\":38, \"city\":\"mysore\", \"number\":76546,\"acads\":[\"10th\",\"12th\",\"B.E\"],\"jobs\":(\"syntel\",\"kbl\")}\n",
    "pp.pprint(detail)"
   ]
  },
  {
   "cell_type": "code",
   "execution_count": 20,
   "id": "ca86a015",
   "metadata": {},
   "outputs": [
    {
     "name": "stdout",
     "output_type": "stream",
     "text": [
      "['ram', 'deer', 'shiva', 'dog', 'sumit']\n"
     ]
    }
   ],
   "source": [
    "list2=[\"ram\",\"deer\",\"shiva\",\"dog\",\"sumit\"]\n",
    "pp.pprint(list2)"
   ]
  },
  {
   "cell_type": "code",
   "execution_count": null,
   "id": "01e6503c",
   "metadata": {},
   "outputs": [],
   "source": []
  }
 ],
 "metadata": {
  "kernelspec": {
   "display_name": "Python 3 (ipykernel)",
   "language": "python",
   "name": "python3"
  },
  "language_info": {
   "codemirror_mode": {
    "name": "ipython",
    "version": 3
   },
   "file_extension": ".py",
   "mimetype": "text/x-python",
   "name": "python",
   "nbconvert_exporter": "python",
   "pygments_lexer": "ipython3",
   "version": "3.10.9"
  }
 },
 "nbformat": 4,
 "nbformat_minor": 5
}
