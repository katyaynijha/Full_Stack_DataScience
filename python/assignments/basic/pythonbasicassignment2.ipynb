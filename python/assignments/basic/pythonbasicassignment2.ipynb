{
 "cells": [
  {
   "cell_type": "markdown",
   "id": "c4379f57",
   "metadata": {},
   "source": [
    "# Python Basic Assignment 2\n",
    "\n",
    "1. What are the two values of the Boolean data type? How do you write them?\n",
    "Ans- Two values are true and false. Python is case sensitive, here we write True and False.\n",
    "\n",
    "2. What are the three different types of Boolean operators?\n",
    "Ans- Three Booleans operators are AND, OR and NOT.\n",
    "     example- (9>2) and (5==5) gives True, both condition are true\n",
    "              (7>3) or (7>9)   gives True, any condition is true\n",
    "               not(5>7)        gives True, original condition is false\n",
    "               \n",
    "3. Make a list of each Boolean operator's truth tables (i.e. every possible combination of Boolean\n",
    "   values for the operator and what it evaluate ).\n",
    "   \n",
    "Ans-\n",
    "      **AND Truth Table**\n",
    "      x   AND  y    returns\n",
    "     True and True   True\n",
    "     True and False  False\n",
    "     False and True  False\n",
    "     False and False False\n",
    "     \n",
    "     **OR Truth Table**\n",
    "      x   OR  y     returns\n",
    "     True or True    True\n",
    "     True or False   True\n",
    "     False or True   True\n",
    "     False or False  False\n",
    "     \n",
    "    ** NOT Truth Table**\n",
    "     NOT  x   returns\n",
    "     not True  False\n",
    "     not False True\n",
    "     \n",
    "4. What are the values of the following expressions?\n",
    "Ans-\n",
    "   **Expressions**         **Values**\n",
    "(5 > 4) and (3 == 5) -       False\n",
    "not (5 > 4)          -       False\n",
    "(5 > 4) or (3 == 5)  -       True\n",
    "not ((5 > 4) or (3 == 5))-   False\n",
    "(True and True) and \n",
    "(True == False)            - False\n",
    "(not False) or (not True) -  True\n",
    "\n",
    "5. What are the six comparison operators?\n",
    "Ans- Six comparison operators are-\n",
    "     Equal(==)\n",
    "     Not equal(!=)\n",
    "     Greater than(>)\n",
    "     Smaller than(<)\n",
    "     Greater than or equal to(>=)\n",
    "     Smaller than or equal to(<=)\n",
    "    \n",
    "6. How do you tell the difference between the equal to and assignment operators?Describe a condition and when you would use one.    \n",
    "Ans- The equal to (==) sign is used for comparing values while assignment operator(=) is used to assign some value to the variable or an expression. Suppose we need to compare age of two kids.\n"
   ]
  },
  {
   "cell_type": "code",
   "execution_count": 1,
   "id": "f8fa9465",
   "metadata": {},
   "outputs": [
    {
     "name": "stdout",
     "output_type": "stream",
     "text": [
      "Different age\n"
     ]
    }
   ],
   "source": [
    "# Suppose we need to compare age of two kids\n",
    "ram=5      #assignment operator used to assign value to variable ram and sam\n",
    "sam=9\n",
    "if ram==sam:  # comparing age of ram and sam by using Equal to sign\n",
    "    print(\"Same age\")\n",
    "else:\n",
    "    print(\"Different age\")"
   ]
  },
  {
   "cell_type": "code",
   "execution_count": null,
   "id": "95dc6284",
   "metadata": {},
   "outputs": [],
   "source": [
    "# 7. Identify the three blocks in following code\n",
    "spam = 0\n",
    "if spam == 10:\n",
    "    print('eggs')  # block 1\n",
    "if spam >5:\n",
    "    print('bacon') # block 2\n",
    "else:\n",
    "    print('ham')   # block 3\n",
    "    print('spam')  # block 3\n",
    "    print('spam')  # block 3\n",
    "    \n",
    "   "
   ]
  },
  {
   "cell_type": "code",
   "execution_count": 1,
   "id": "8f5fee1c",
   "metadata": {},
   "outputs": [
    {
     "name": "stdout",
     "output_type": "stream",
     "text": [
      "Enter any integer= 5\n",
      "Greetings\n"
     ]
    }
   ],
   "source": [
    "# 8. Write code that prints Hello if 1 is stored in spam, prints Howdy if 2 is stored in spam, and prints\n",
    "#Greetings! if anything else is stored in spam.\n",
    "spam=int(input(\"Enter any integer= \"))  # taking input as an integer\n",
    "if spam==1:\n",
    "    print(\"Hello\")\n",
    "elif spam==2:\n",
    "    print(\"Howdy\")\n",
    "else:\n",
    "    print(\"Greetings\")\n"
   ]
  },
  {
   "cell_type": "markdown",
   "id": "e6b9e21e",
   "metadata": {},
   "source": [
    "9. If your programme is stuck in an endless loop, what keys you’ll press?\n",
    "Ans- Ctrl+C\n",
    "\n",
    "10. How can you tell the difference between break and continue?\n",
    "Ans- Break and continue statements are used to break out the loop completely or to skip some parts of the current loop.\n",
    "The CONTINUE statement is used to skip some parts of current loop. Suppose we want to print numbers from 1 to 20 except multiple of 3 ."
   ]
  },
  {
   "cell_type": "code",
   "execution_count": 2,
   "id": "e7603d1f",
   "metadata": {},
   "outputs": [
    {
     "name": "stdout",
     "output_type": "stream",
     "text": [
      "1 2 4 5 7 8 10 11 13 14 16 17 19 20 "
     ]
    }
   ],
   "source": [
    "#usage of continue statement where we want to print all numbers except multiple of 3\n",
    "for i in range(1,21):\n",
    "    if i%3==0:\n",
    "        continue\n",
    "    print(i,end=' ')    "
   ]
  },
  {
   "cell_type": "markdown",
   "id": "f6d6cd10",
   "metadata": {},
   "source": [
    "The BREAK statement is used to exit current sequence of the loop. Suppose we need to type userid taken from user, but it should not contain any space."
   ]
  },
  {
   "cell_type": "code",
   "execution_count": 7,
   "id": "550ba403",
   "metadata": {},
   "outputs": [
    {
     "name": "stdout",
     "output_type": "stream",
     "text": [
      "Enter your userid= sumit kumar\n",
      "sumit \n",
      " Warning!! Your userid should not contain any space\n"
     ]
    }
   ],
   "source": [
    "# Enter userid which should not contain any space\n",
    "string=input(\"Enter your userid: \")\n",
    "for i in string:\n",
    "    print(i,end=\"\")\n",
    "    if i==\" \":\n",
    "        print(\"\\n\",\"Warning!! Your userid should not contain any space\")\n",
    "        break"
   ]
  },
  {
   "cell_type": "markdown",
   "id": "5477bd41",
   "metadata": {},
   "source": [
    "11. In a for loop, what is the difference between range(10), range(0, 10), and range(0, 10, 1)?\n",
    "Ans- range(start,stop,step), by deafault, range starts from 0 and increament by 1 step. So if we only mention stop limit, then it will start from 0 and go upto stop_limit-1.\n",
    "All range(10)-, range(0, 10), and range(0, 10, 1) will give SAME output. "
   ]
  },
  {
   "cell_type": "code",
   "execution_count": 10,
   "id": "43d3f3c7",
   "metadata": {},
   "outputs": [
    {
     "name": "stdout",
     "output_type": "stream",
     "text": [
      "0 1 2 3 4 5 6 7 8 9 \n",
      "0 1 2 3 4 5 6 7 8 9 \n",
      "0 1 2 3 4 5 6 7 8 9 "
     ]
    }
   ],
   "source": [
    "for i in range(10):\n",
    "    print(i,end=\" \")\n",
    "print()    \n",
    "for i in range(0,10):\n",
    "    print(i,end=\" \") \n",
    "print()    \n",
    "for i in range(0,10,1):\n",
    "    print(i,end=\" \")    "
   ]
  },
  {
   "cell_type": "markdown",
   "id": "fc854929",
   "metadata": {},
   "source": [
    "12. Write a short program that prints the numbers 1 to 10 using a for loop. Then write an equivalent\n",
    "    program that prints the numbers 1 to 10 using a while loop."
   ]
  },
  {
   "cell_type": "code",
   "execution_count": 14,
   "id": "c79d3621",
   "metadata": {},
   "outputs": [
    {
     "name": "stdout",
     "output_type": "stream",
     "text": [
      "1 2 3 4 5 6 7 8 9 10 "
     ]
    }
   ],
   "source": [
    "# FOR loop\n",
    "for i in range(1,11):\n",
    "    print(i,end=' ')    "
   ]
  },
  {
   "cell_type": "code",
   "execution_count": 15,
   "id": "059257a5",
   "metadata": {},
   "outputs": [
    {
     "name": "stdout",
     "output_type": "stream",
     "text": [
      "1 2 3 4 5 6 7 8 9 10 "
     ]
    }
   ],
   "source": [
    "# WHILE loop\n",
    "i=1\n",
    "while i<=10:\n",
    "    print(i,end=\" \")\n",
    "    i=i+1\n",
    "    "
   ]
  },
  {
   "cell_type": "markdown",
   "id": "39d59655",
   "metadata": {},
   "source": [
    "13. If you had a function named bacon() inside a module named spam, how would you call it after\n",
    "    importing spam?\n",
    "Ans- import spam as sp\n",
    "     sp.bacon"
   ]
  }
 ],
 "metadata": {
  "kernelspec": {
   "display_name": "Python 3 (ipykernel)",
   "language": "python",
   "name": "python3"
  },
  "language_info": {
   "codemirror_mode": {
    "name": "ipython",
    "version": 3
   },
   "file_extension": ".py",
   "mimetype": "text/x-python",
   "name": "python",
   "nbconvert_exporter": "python",
   "pygments_lexer": "ipython3",
   "version": "3.10.9"
  }
 },
 "nbformat": 4,
 "nbformat_minor": 5
}
