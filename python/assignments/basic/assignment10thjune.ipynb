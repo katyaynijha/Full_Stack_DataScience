{
 "cells": [
  {
   "cell_type": "markdown",
   "id": "040171c3",
   "metadata": {},
   "source": [
    "# Function Assignment-10th june"
   ]
  },
  {
   "cell_type": "markdown",
   "id": "7c134190",
   "metadata": {},
   "source": [
    "1. What is the difference between a built-in function and a user-defined function?"
   ]
  },
  {
   "cell_type": "code",
   "execution_count": 4,
   "id": "060d8173",
   "metadata": {},
   "outputs": [],
   "source": [
    "\"\"\" \n",
    "Built-in function are those functions which are already defined within python \n",
    "language. Example-print(),range(),type()\n",
    "User-defined function are those functions which are created byuser to perform \n",
    "specific task using keyword \"def\".\n",
    "\"\"\"\n",
    "def is_rational(num1,num2):\n",
    "    if type(num1)==int and type(num2)==int and num2!=0:\n",
    "        print(\"Number is Rational\") # print() is built-in function\n",
    "    else:\n",
    "        return \"Number is not rational\""
   ]
  },
  {
   "cell_type": "code",
   "execution_count": 7,
   "id": "0e36506f",
   "metadata": {},
   "outputs": [
    {
     "name": "stdout",
     "output_type": "stream",
     "text": [
      "Number is Rational\n"
     ]
    }
   ],
   "source": [
    "is_rational(90,5)    # is_rational is user-defined function"
   ]
  },
  {
   "cell_type": "markdown",
   "id": "8a2a2cc4",
   "metadata": {},
   "source": [
    "2. How can you pass arguments to a function in Python? Explain the difference between positional arguments and keyword arguments."
   ]
  },
  {
   "cell_type": "code",
   "execution_count": 9,
   "id": "69ec665c",
   "metadata": {},
   "outputs": [
    {
     "name": "stdout",
     "output_type": "stream",
     "text": [
      "Hello! my name is Mona and I study in grade 7\n"
     ]
    }
   ],
   "source": [
    "\"\"\"\n",
    "Arguments can be passed by 2 ways-\n",
    "a) Positional arguments- As name suggest, arguments are based on position. \n",
    "The value passed in the function must follow same order of parameter's list.\n",
    "\n",
    "b) Keyword arguments- Parametes will be assigned with argument values while \n",
    "calling the function. This provides more clarity and flexibility. No constraint of\n",
    "follwing orders of parameters. \n",
    "\"\"\"\n",
    "# Positional argument\n",
    "def intro(name,grade):\n",
    "    print(\"Hello! my name is {} and I study in grade {}\".format(name,grade))\n",
    "intro(\"Mona\",7)    "
   ]
  },
  {
   "cell_type": "code",
   "execution_count": 10,
   "id": "e07166b2",
   "metadata": {},
   "outputs": [
    {
     "name": "stdout",
     "output_type": "stream",
     "text": [
      "Hello! my name is Mona and I study in grade 7\n"
     ]
    }
   ],
   "source": [
    "# keyword argument\n",
    "def intro(name,grade):\n",
    "    print(\"Hello! my name is {} and I study in grade {}\".format(name,grade))\n",
    "intro(name=\"Mona\",grade=7)    "
   ]
  },
  {
   "cell_type": "markdown",
   "id": "0be8ce58",
   "metadata": {},
   "source": [
    "3. What is the purpose of the return statement in a function? Can a function have multiple return statements.Give example"
   ]
  },
  {
   "cell_type": "code",
   "execution_count": 17,
   "id": "bc6257a0",
   "metadata": {},
   "outputs": [
    {
     "name": "stdout",
     "output_type": "stream",
     "text": [
      "Enter operation like add, sub, mul, div: mul\n"
     ]
    },
    {
     "data": {
      "text/plain": [
       "('Product of numbers is: ', 405)"
      ]
     },
     "execution_count": 17,
     "metadata": {},
     "output_type": "execute_result"
    }
   ],
   "source": [
    "\"\"\"\n",
    "The purpose of return statement is to give value that function send back to the caller when the function is called. return statement is followed by value or \n",
    "an expression. When a return statement is encountered, the function stopped executing immediately and specified value return to the caller.\n",
    " \n",
    "Yes, a function can have multiple return statements provided in diffrent block\n",
    "of code.\n",
    "\"\"\"\n",
    "def calci(num1,num2):\n",
    "    operation=input(\"Enter operation like add, sub, mul, div: \")\n",
    "    if operation==\"add\":\n",
    "        return \"Sum of numbers is: \",num1+num2\n",
    "    elif operation==\"sub\":\n",
    "        return \"Diffrence of numbers is: \",num1-num2\n",
    "    elif operation==\"mul\":\n",
    "        return \"Product of numbers is: \",num1*num2\n",
    "    elif operation==\"div\":\n",
    "        return \"Quotient of numbers is: \",num1/num2\n",
    "    else:\n",
    "        return \"Enter correct name of operation\"\n",
    "calci(45,9)    "
   ]
  },
  {
   "cell_type": "markdown",
   "id": "f464dbee",
   "metadata": {},
   "source": [
    "4. What are lambda functions in Python? How are they different from regular functions? Provide an example where a lambda function can be useful."
   ]
  },
  {
   "cell_type": "code",
   "execution_count": 1,
   "id": "a018cca1",
   "metadata": {},
   "outputs": [
    {
     "data": {
      "text/plain": [
       "'Number is Even'"
      ]
     },
     "execution_count": 1,
     "metadata": {},
     "output_type": "execute_result"
    }
   ],
   "source": [
    "\"\"\"\n",
    "Lambda function is an anonymous function used to create one-line function.  \n",
    "Unlike regular function, lambda function create without formal definition. \n",
    "Regular function created using keyword def, lambda function created using lambda. \n",
    "\"\"\"\n",
    "def is_even(num):\n",
    "    if num%2==0:\n",
    "        return \"Number is Even\"\n",
    "    else:\n",
    "        return \"Number is Not  Even\"\n",
    "is_even(56) "
   ]
  },
  {
   "cell_type": "code",
   "execution_count": 3,
   "id": "0ba47a17",
   "metadata": {},
   "outputs": [
    {
     "data": {
      "text/plain": [
       "False"
      ]
     },
     "execution_count": 3,
     "metadata": {},
     "output_type": "execute_result"
    }
   ],
   "source": [
    "is_even=lambda x:x%2==0\n",
    "is_even(23)"
   ]
  },
  {
   "cell_type": "markdown",
   "id": "0809645c",
   "metadata": {},
   "source": [
    "5. How does the concept of \"scope\" apply to functions in Python? Explain the difference between local scope and global scope."
   ]
  },
  {
   "cell_type": "code",
   "execution_count": 9,
   "id": "1f8faf3a",
   "metadata": {},
   "outputs": [
    {
     "name": "stdout",
     "output_type": "stream",
     "text": [
      "Local variable:  5\n",
      "Global variable:  10\n"
     ]
    }
   ],
   "source": [
    "\"\"\"\n",
    "A scope defines the accessibility of an object of python. It is the set of rules \n",
    "that tells where and how a variable can be searched. The region of coding where \n",
    "variable is defined is known as scope.\n",
    "There are 4 types of scopes- Local, Global, Enclosed, Built-in\n",
    "Local scope is the code region within function. The variables which are defined\n",
    "within the function, are local scope of the variable. The variable which has local\n",
    "scope cannot be accessed anywhere.\n",
    "The variables which are defined outside of the main function, has global scope of \n",
    "the variable.\n",
    "\"\"\"\n",
    "x=10\n",
    "def func():\n",
    "    x=5\n",
    "    print(\"Local variable: \",x)\n",
    "func()\n",
    "print(\"Global variable: \",x)"
   ]
  },
  {
   "cell_type": "markdown",
   "id": "a7992232",
   "metadata": {},
   "source": [
    "6. How can you use the \"return\" statement in a Python function to return multiple values?"
   ]
  },
  {
   "cell_type": "code",
   "execution_count": 13,
   "id": "40c2168d",
   "metadata": {},
   "outputs": [
    {
     "data": {
      "text/plain": [
       "(27, 9, 243, 36, 3.0)"
      ]
     },
     "execution_count": 13,
     "metadata": {},
     "output_type": "execute_result"
    }
   ],
   "source": [
    "\"\"\"\n",
    "The \"return\" statement can return multiples values by using comma(,)\n",
    "\"\"\"\n",
    "def func1(a,b):\n",
    "    return a,b,a*b,a+b,a/b\n",
    "func1(27,9)"
   ]
  },
  {
   "cell_type": "markdown",
   "id": "583c4efd",
   "metadata": {},
   "source": [
    "7. What is the difference between the \"pass by value\" and \"pass by reference\" concepts when it comes to function arguments in Python?"
   ]
  },
  {
   "cell_type": "code",
   "execution_count": 18,
   "id": "4802d872",
   "metadata": {},
   "outputs": [
    {
     "name": "stdout",
     "output_type": "stream",
     "text": [
      "num:  24\n",
      "num1:  23\n"
     ]
    }
   ],
   "source": [
    "\"\"\"\n",
    "In \"pass by value\", a copy of the value is passed to the function. Any changes\n",
    "made to the parameter does not affect the original value. \n",
    "In \"pass by reference\", a reference passed to the variable means address of the\n",
    "parameters is passed. Any changes made to the parameter will change original value.\n",
    "\"\"\"\n",
    "def psbyval(num):  # immutable object is passed \n",
    "    num+=1\n",
    "    print(\"num: \",num)\n",
    "num1=23\n",
    "psbyval(num1)\n",
    "print(\"num1: \",num1)"
   ]
  },
  {
   "cell_type": "code",
   "execution_count": 23,
   "id": "1bd1e0fd",
   "metadata": {},
   "outputs": [
    {
     "name": "stdout",
     "output_type": "stream",
     "text": [
      "[5, 8, 9]\n",
      "[5, 8, 9]\n"
     ]
    }
   ],
   "source": [
    "def psbyref(lst): # mutable object is passed\n",
    "    #lst=[1,2,3]   # reassignment of parameter\n",
    "    lst[0]=5\n",
    "    print(lst)\n",
    "my_lst=[6,8,9]\n",
    "psbyval(my_lst)\n",
    "print(my_lst)"
   ]
  },
  {
   "cell_type": "code",
   "execution_count": 2,
   "id": "4dd10be1",
   "metadata": {},
   "outputs": [
    {
     "data": {
      "text/plain": [
       "(2.772588722239781, 8886110.520507872, 256.0, 4.0)"
      ]
     },
     "execution_count": 2,
     "metadata": {},
     "output_type": "execute_result"
    }
   ],
   "source": [
    "#8. Create a function that can intake integer or decimal value and do following operations:\n",
    "#a. Logarithmic function (log x)\n",
    "#b. Exponential function (exp(x))\n",
    "#c. Power function with base 2 (2^x)\n",
    "#d. Square root\n",
    "import math\n",
    "def operation(arth):\n",
    "    return math.log(arth),math.exp(arth),math.pow(arth,2),math.sqrt(arth)\n",
    "(16)    "
   ]
  },
  {
   "cell_type": "markdown",
   "id": "0d1aacf1",
   "metadata": {},
   "source": [
    "9. Create a function that takes a full name as an argument and returns first name and last name."
   ]
  },
  {
   "cell_type": "code",
   "execution_count": 14,
   "id": "63cc5f65",
   "metadata": {},
   "outputs": [
    {
     "name": "stdout",
     "output_type": "stream",
     "text": [
      "First name: Sumit\n",
      "Last name:  kumar\n"
     ]
    },
    {
     "data": {
      "text/plain": [
       "('First name:', 'Sumit', 'Last name: ', 'kumar')"
      ]
     },
     "execution_count": 14,
     "metadata": {},
     "output_type": "execute_result"
    }
   ],
   "source": [
    "def fullname(name):\n",
    "    l=name.split()\n",
    "    first_name=l[0]\n",
    "    last_name=l[-1]\n",
    "    print(\"First name:\",first_name)\n",
    "    print(\"Last name: \",last_name)\n",
    "    return \"First name:\",first_name,\"Last name: \",last_name\n",
    "fullname(\"Sumit kumar\")   "
   ]
  },
  {
   "cell_type": "code",
   "execution_count": 17,
   "id": "cca34d78",
   "metadata": {},
   "outputs": [
    {
     "name": "stdout",
     "output_type": "stream",
     "text": [
      "First name: katyayni\n",
      "Last name:  jha\n"
     ]
    },
    {
     "data": {
      "text/plain": [
       "('First name:', 'katyayni', 'Last name: ', 'jha')"
      ]
     },
     "execution_count": 17,
     "metadata": {},
     "output_type": "execute_result"
    }
   ],
   "source": [
    "name1=\"katyayni jha\"\n",
    "fullname(name1)"
   ]
  },
  {
   "cell_type": "code",
   "execution_count": 21,
   "id": "2e2f1b02",
   "metadata": {},
   "outputs": [
    {
     "name": "stdout",
     "output_type": "stream",
     "text": [
      "First name: Pramod\n",
      "Last name:  jha\n"
     ]
    }
   ],
   "source": [
    "def myname():\n",
    "    fullname(\"Pramod chandra jha\")\n",
    "myname()    "
   ]
  },
  {
   "cell_type": "code",
   "execution_count": null,
   "id": "ce5e4a5e",
   "metadata": {},
   "outputs": [],
   "source": []
  }
 ],
 "metadata": {
  "kernelspec": {
   "display_name": "Python 3 (ipykernel)",
   "language": "python",
   "name": "python3"
  },
  "language_info": {
   "codemirror_mode": {
    "name": "ipython",
    "version": 3
   },
   "file_extension": ".py",
   "mimetype": "text/x-python",
   "name": "python",
   "nbconvert_exporter": "python",
   "pygments_lexer": "ipython3",
   "version": "3.10.9"
  }
 },
 "nbformat": 4,
 "nbformat_minor": 5
}
