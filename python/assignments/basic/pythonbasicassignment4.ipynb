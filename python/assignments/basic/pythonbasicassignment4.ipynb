{
 "cells": [
  {
   "cell_type": "markdown",
   "id": "bdd6518c",
   "metadata": {},
   "source": [
    "# Assignment-4\n",
    "## List,Tuple,set...\n",
    "\n",
    "1. What exactly is []?\n",
    "\n",
    "Ans- [] is a Index bracket used to enclose data collection in the form of list or say to store list literals. [] containing Null item called empty list. [] is also used to write expression which evaluate single item of list or single character of string ."
   ]
  },
  {
   "cell_type": "code",
   "execution_count": 3,
   "id": "12711b48",
   "metadata": {},
   "outputs": [
    {
     "name": "stdout",
     "output_type": "stream",
     "text": [
      "a\n",
      "priya\n"
     ]
    }
   ],
   "source": [
    "# usage of []\n",
    "name=\"katyayni\"\n",
    "name_list=[\"priya\",\"diya\",\"liya\"]\n",
    "print(name[4])\n",
    "print(name_list[0])"
   ]
  },
  {
   "cell_type": "markdown",
   "id": "0c7b1ded",
   "metadata": {},
   "source": [
    "2. In a list of values stored in a variable called spam, how would you assign the value \"hello\" as the\n",
    "   third value? (Assume [2, 4, 6, 8, 10] are in spam.)  \n",
    "   \n",
    "Ans- Using insert(index number,value) function    "
   ]
  },
  {
   "cell_type": "code",
   "execution_count": 4,
   "id": "616a9b9c",
   "metadata": {},
   "outputs": [
    {
     "data": {
      "text/plain": [
       "[2, 4, 'hello', 6, 8, 10]"
      ]
     },
     "execution_count": 4,
     "metadata": {},
     "output_type": "execute_result"
    }
   ],
   "source": [
    "spam=[2,4,6,8,10]\n",
    "spam.insert(2,\"hello\") \n",
    "spam"
   ]
  },
  {
   "cell_type": "markdown",
   "id": "977641ff",
   "metadata": {},
   "source": [
    "3. What is the value of spam[int(int('3' * 2) / 11)]?\n",
    "\n",
    "Ans- int(\"3\"*2) will be int(33) -33 \n",
    "     int(33/11) gives int(3.0) gives 3,\n",
    "     spam[3] gives the 3rd value of spam list i,e. \"d\""
   ]
  },
  {
   "cell_type": "code",
   "execution_count": 6,
   "id": "c5716a46",
   "metadata": {},
   "outputs": [
    {
     "name": "stdout",
     "output_type": "stream",
     "text": [
      "d\n"
     ]
    }
   ],
   "source": [
    "spam=[\"a\",\"b\",\"c\",\"d\"]\n",
    "val= spam[int(int(\"3\"*2)/11)] \n",
    "print(val)"
   ]
  },
  {
   "cell_type": "code",
   "execution_count": 7,
   "id": "ebd3e599",
   "metadata": {},
   "outputs": [
    {
     "name": "stdout",
     "output_type": "stream",
     "text": [
      "d\n"
     ]
    }
   ],
   "source": [
    "#4. What is the value of spam[-1]? \n",
    "# Ans- spam[-1] will give last item of the list\n",
    "spam=[\"a\",\"b\",\"c\",\"d\"]\n",
    "print(spam[-1]) "
   ]
  },
  {
   "cell_type": "code",
   "execution_count": 8,
   "id": "a04782ce",
   "metadata": {},
   "outputs": [
    {
     "data": {
      "text/plain": [
       "['a', 'b']"
      ]
     },
     "execution_count": 8,
     "metadata": {},
     "output_type": "execute_result"
    }
   ],
   "source": [
    "# 5. What is the value of spam[:2]? \n",
    "#Ans spam[:2] gives value at index start from 0 to upper limit-1(here,2-1=1) i,e. spam[0] and spam[1]\n",
    "spam=[\"a\",\"b\",\"c\",\"d\"]\n",
    "spam[:2]"
   ]
  },
  {
   "cell_type": "markdown",
   "id": "b7826f2d",
   "metadata": {},
   "source": [
    "6. What is the value of bacon.index(\"cat\")?\n",
    "\n",
    "Ans- list.index(value) returns Index number of given value. In case of duplicate items, index of first element will be considered. Here, \"cat\" first appear at index 1."
   ]
  },
  {
   "cell_type": "code",
   "execution_count": 9,
   "id": "25bf44da",
   "metadata": {},
   "outputs": [
    {
     "name": "stdout",
     "output_type": "stream",
     "text": [
      "1\n"
     ]
    }
   ],
   "source": [
    "bacon=[3.14,\"cat\",11,\"cat\",True]\n",
    "val=bacon.index(\"cat\")\n",
    "print(val)"
   ]
  },
  {
   "cell_type": "markdown",
   "id": "cde713e4",
   "metadata": {},
   "source": [
    "7. How does bacon.append(99) change the look of the list value in bacon?\n",
    "\n",
    "Ans- list.append(value) append the value at the end of the list. Here, integer 99 will be appended at the end of the list bacon."
   ]
  },
  {
   "cell_type": "code",
   "execution_count": 15,
   "id": "7e0ca7d5",
   "metadata": {},
   "outputs": [
    {
     "data": {
      "text/plain": [
       "[3.14, 'cat', 11, 'cat', True, 99]"
      ]
     },
     "execution_count": 15,
     "metadata": {},
     "output_type": "execute_result"
    }
   ],
   "source": [
    "bacon=[3.14,\"cat\",11,\"cat\",True]\n",
    "bacon.append(99)\n",
    "bacon"
   ]
  },
  {
   "cell_type": "markdown",
   "id": "88566ae8",
   "metadata": {},
   "source": [
    "8. How does bacon.remove(\"cat\") change the look of the list in bacon?\n",
    "\n",
    "Ans- list.remove(value) is used to delete specific item from the list. In case of duplicate items, the 1st appearing item or value at lowest index will be removed from the list. Here, \"cat\" at index 1 will be deleted."
   ]
  },
  {
   "cell_type": "code",
   "execution_count": 16,
   "id": "3a6e4bb6",
   "metadata": {},
   "outputs": [
    {
     "data": {
      "text/plain": [
       "[3.14, 11, 'cat', True]"
      ]
     },
     "execution_count": 16,
     "metadata": {},
     "output_type": "execute_result"
    }
   ],
   "source": [
    "bacon=[3.14,\"cat\",11,\"cat\",True]\n",
    "bacon.remove(\"cat\")\n",
    "bacon"
   ]
  },
  {
   "cell_type": "markdown",
   "id": "3a31c587",
   "metadata": {},
   "source": [
    "9. What are the list concatenation and list replication operators?\n",
    "\n",
    "Ans- List concatenation operator is + and list replication operator is *"
   ]
  },
  {
   "cell_type": "code",
   "execution_count": 18,
   "id": "60d16316",
   "metadata": {},
   "outputs": [
    {
     "name": "stdout",
     "output_type": "stream",
     "text": [
      "[2, 3, 4, 7, 5, 6] \n",
      " [2, 3, 4, 2, 3, 4]\n"
     ]
    }
   ],
   "source": [
    "list1=[2,3,4]\n",
    "list2=[7,5,6]\n",
    "list3=list1+list2 # CONCATENATION(+)\n",
    "list4= list1*2    # REPLICATION(*)\n",
    "print(list3,\"\\n\",list4)"
   ]
  },
  {
   "cell_type": "markdown",
   "id": "3c4fced7",
   "metadata": {},
   "source": [
    "10. What is difference between the list methods append() and insert()?\n",
    "\n",
    "Ans- append() add item at the end of the list -list.append(value).\n",
    "While, insert() used to add item at given specific index, list.insert(index,value)"
   ]
  },
  {
   "cell_type": "code",
   "execution_count": 21,
   "id": "b59e9b3e",
   "metadata": {},
   "outputs": [
    {
     "name": "stdout",
     "output_type": "stream",
     "text": [
      "['sa', 're', 'ga', 'ma', 'pa'] \n",
      "\n",
      "['sa', 're', 'ga', 'ma', 'pa', 'dha']\n"
     ]
    }
   ],
   "source": [
    "list1=[\"sa\",\"re\",\"ga\",\"pa\"]\n",
    "list1.insert(3,\"ma\")\n",
    "print(list1,\"\\n\")\n",
    "list1.append(\"dha\")\n",
    "print(list1)\n"
   ]
  },
  {
   "cell_type": "markdown",
   "id": "3cd6e985",
   "metadata": {},
   "source": [
    "11. What are the two methods for removing items from a list?\n",
    "\n",
    "Ans- The two methods are\n",
    "1.remove(value)- delete specific  given item \n",
    "2.pop(index)- delete item at given index or delete last element of the list "
   ]
  },
  {
   "cell_type": "code",
   "execution_count": 6,
   "id": "6cefb026",
   "metadata": {},
   "outputs": [
    {
     "name": "stdout",
     "output_type": "stream",
     "text": [
      "Remove ga : ['sa', 're', 'ma', 'pa', 'dha', 'ni'] \n",
      "\n",
      "Delete item at index 0:  ['re', 'ma', 'pa', 'dha', 'ni'] \n",
      "\n",
      "Delete the last item ['re', 'ma', 'pa', 'dha'] \n",
      "\n"
     ]
    }
   ],
   "source": [
    "list1=[\"sa\",\"re\",\"ga\",\"ma\",\"pa\",\"dha\",\"ni\"]\n",
    "list1.remove(\"ga\")\n",
    "print(\"Remove ga :\",list1,'\\n')\n",
    "list1.pop(0)\n",
    "print(\"Delete item at index 0: \",list1,'\\n')\n",
    "list1.pop()\n",
    "print(\"Delete the last item\",list1,'\\n')"
   ]
  },
  {
   "cell_type": "markdown",
   "id": "35757088",
   "metadata": {},
   "source": [
    "12. Describe how list values and string values are identical.\n",
    "\n",
    "Ans- The similarity is that both are sequences of data. List elements can be string which is an ordered collection of characters except list is hetrogenous, its element can be of different datatypes. \n",
    "list=[\"ram\", 123, 34.65,[12,32,\"embedded\"]], str=\"katyayni\"\n",
    "Both list and string can be passed through function len(),both have index, slices and can be used in for loop. Concatenation and replication of both list and string can be done."
   ]
  },
  {
   "cell_type": "code",
   "execution_count": 16,
   "id": "77fa68a3",
   "metadata": {},
   "outputs": [
    {
     "name": "stdout",
     "output_type": "stream",
     "text": [
      "Item of list at given index: 1 \n",
      " Char at given index: a\n",
      "Length of list: 4 \n",
      " Length of string: 8\n",
      "[4, 3, 2, 1]\n",
      "katyayni\n",
      "Print item of list using loop:\n",
      "1 2 3 4 \n",
      " Print character of string using loop:\n",
      "k a t y a y n i \n",
      " Concatenation of list: [1, 2, 3, 4, 6, 7, 8]\n",
      "Concatenation of string: katyayniJha\n"
     ]
    }
   ],
   "source": [
    "list1=[1,2,3,4]\n",
    "str1=\"katyayni\"\n",
    "print(\"Item of list at given index:\",list1[0],\"\\n\",\"Char at given index:\",str1[1])\n",
    "print(\"Length of list:\",len(list1),'\\n',\"Length of string:\",len(str1))\n",
    "print(list1[::-1])\n",
    "print(str1[::1])\n",
    "print(\"Print item of list using loop:\")\n",
    "for i in list1:\n",
    "    print(i,end=' ')\n",
    "print(\"\\n\",\"Print character of string using loop:\",)    \n",
    "for i in str1:\n",
    "     print(i,end=' ')\n",
    "list2=[6,7,8]\n",
    "print(\"\\n\",\"Concatenation of list:\",list1+list2)\n",
    "print(\"Concatenation of string:\",\"katyayni\"+\"Jha\")        "
   ]
  },
  {
   "cell_type": "markdown",
   "id": "39cd5a0e",
   "metadata": {},
   "source": [
    "13. What's the difference between tuples and lists?\n",
    "\n",
    "Ans-     **List & Tuple**\n",
    "\n",
    "a) List is a mutable datatype       \n",
    "   Tuple is non-mutable datatype\n",
    "b) Items of lists should be enclosed in bracket[]       \n",
    "   Items of tuple should be enclosed in parantheses()  \n",
    "c) Lists have several built-in methods. \n",
    "   Tuple has only 3 methods, count,index & mro\n"
   ]
  },
  {
   "cell_type": "markdown",
   "id": "1fdfb947",
   "metadata": {},
   "source": [
    "14. How do you type a tuple value that only contains the integer 42?\n",
    "\n",
    "Ans- tuple=(42,) trailling comma is mandatory when tuple contain single element."
   ]
  },
  {
   "cell_type": "code",
   "execution_count": 13,
   "id": "c82567bf",
   "metadata": {},
   "outputs": [
    {
     "name": "stdout",
     "output_type": "stream",
     "text": [
      "<class 'int'>\n",
      "<class 'tuple'>\n"
     ]
    }
   ],
   "source": [
    "tup=(42)\n",
    "print(type(tup))\n",
    "tup1=(42,)\n",
    "print(type(tup1))"
   ]
  },
  {
   "cell_type": "markdown",
   "id": "725c9a8f",
   "metadata": {},
   "source": [
    "15. How do you get a list value's tuple form? How do you get a tuple value's list form?\n",
    "\n",
    "Ans- By method of type casting, we can get list value's tuple form  using tuple () function and get tuple value's list form using list() function.  "
   ]
  },
  {
   "cell_type": "code",
   "execution_count": 10,
   "id": "c2180f26",
   "metadata": {},
   "outputs": [
    {
     "name": "stdout",
     "output_type": "stream",
     "text": [
      "List:  [12, 34, 'reshu', 2.43] \n",
      " Tuple:  (12, 34, 'reshu', 2.43)\n"
     ]
    }
   ],
   "source": [
    "list1=[12,34,\"reshu\",2.43]  # list\n",
    "list2=tuple(list1)          # converting list elemnt into tuple\n",
    "print(\"List: \",list1,\"\\n\",\"Tuple: \",list2)"
   ]
  },
  {
   "cell_type": "code",
   "execution_count": 11,
   "id": "eefe7e19",
   "metadata": {},
   "outputs": [
    {
     "name": "stdout",
     "output_type": "stream",
     "text": [
      "Tuple:  (32, 56, 'sam', 9.8)\n",
      "List:  [32, 56, 'sam', 9.8]\n"
     ]
    }
   ],
   "source": [
    "tup=(32,56,\"sam\",9.8) # tuple \n",
    "tup1=list(tup)        # converting tuple elemnt into list\n",
    "print(\"Tuple: \",tup)\n",
    "print(\"List: \",tup1)"
   ]
  },
  {
   "cell_type": "markdown",
   "id": "9db044ed",
   "metadata": {},
   "source": [
    "16. Variables that \"contain\" list values are not necessarily lists themselves. Instead, what do they contain??\n",
    "\n",
    "Ans- Variables like integers and strings contain assigned integer or string values but variables that contain list values will contain References to the list value rather than themselves. "
   ]
  },
  {
   "cell_type": "markdown",
   "id": "21043970",
   "metadata": {},
   "source": [
    "17. How do you distinguish between copy.copy() and copy.deepcopy()?\n",
    "\n",
    "Ans- copy.copy() is known as shallow copy as it can copy single dimensional list .On the otherhand, copy.deepcopy() is used to copy nested list."
   ]
  },
  {
   "cell_type": "code",
   "execution_count": 19,
   "id": "7fc07216",
   "metadata": {},
   "outputs": [
    {
     "name": "stdout",
     "output_type": "stream",
     "text": [
      "[1, 2, 3, 4] [1, 2, 3, 7]\n"
     ]
    }
   ],
   "source": [
    "import copy\n",
    "list1=[1,2,3,4]\n",
    "list2=copy.copy(list1) # we observe change in list2 doesnot affect list1 as different memory locations created using copy.copy()\n",
    "list2[3]=7\n",
    "print(list1,list2)   "
   ]
  },
  {
   "cell_type": "code",
   "execution_count": 20,
   "id": "9eecb6cf",
   "metadata": {},
   "outputs": [
    {
     "name": "stdout",
     "output_type": "stream",
     "text": [
      "[1, 2, 3, 4, [5, 6, 7, [11, 9]]] [1, 2, 3, 4, [5, 6, 7, [11, 9]]]\n"
     ]
    }
   ],
   "source": [
    "list3=[1,2,3,4,[5,6,7,[8,9]]]\n",
    "list4=copy.copy(list3) # We observe that change in list4 change list3 as well so copy.copy() Not work for NESTED list\n",
    "list4[4][3][0]=11\n",
    "print(list3,list4)"
   ]
  },
  {
   "cell_type": "code",
   "execution_count": 21,
   "id": "c098e1ef",
   "metadata": {},
   "outputs": [
    {
     "name": "stdout",
     "output_type": "stream",
     "text": [
      "[1, 2, 3, 4, [5, 6, 7, [8, 9]]] [1, 2, 3, 4, [5, 6, 7, [11, 9]]]\n"
     ]
    }
   ],
   "source": [
    "list3=[1,2,3,4,[5,6,7,[8,9]]]\n",
    "list4=copy.deepcopy(list3) # We observe that change in list4 doesnot change list3 coz copy.deepcopy() work for NESTED list\n",
    "list4[4][3][0]=11\n",
    "print(list3,list4)"
   ]
  },
  {
   "cell_type": "code",
   "execution_count": null,
   "id": "178aab86",
   "metadata": {},
   "outputs": [],
   "source": []
  }
 ],
 "metadata": {
  "kernelspec": {
   "display_name": "Python 3 (ipykernel)",
   "language": "python",
   "name": "python3"
  },
  "language_info": {
   "codemirror_mode": {
    "name": "ipython",
    "version": 3
   },
   "file_extension": ".py",
   "mimetype": "text/x-python",
   "name": "python",
   "nbconvert_exporter": "python",
   "pygments_lexer": "ipython3",
   "version": "3.10.9"
  }
 },
 "nbformat": 4,
 "nbformat_minor": 5
}
