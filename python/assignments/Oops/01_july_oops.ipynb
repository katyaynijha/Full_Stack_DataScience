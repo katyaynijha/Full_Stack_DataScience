{
 "cells": [
  {
   "cell_type": "markdown",
   "id": "e56b214e",
   "metadata": {},
   "source": [
    "# OOPs Assignment-1st july"
   ]
  },
  {
   "cell_type": "markdown",
   "id": "0c77a068",
   "metadata": {},
   "source": [
    "1. What is the primary goal of Object-Oriented Programming (OOP)?"
   ]
  },
  {
   "cell_type": "code",
   "execution_count": null,
   "id": "aa028e1d",
   "metadata": {},
   "outputs": [],
   "source": [
    "\"\"\"\n",
    "The primary goal of OOP is to reduce complexity of program by enabling easy\n",
    "accessibility of code, its reusability and adaptibility.\n",
    "\n",
    "\"\"\""
   ]
  },
  {
   "cell_type": "markdown",
   "id": "b904bbf4",
   "metadata": {},
   "source": [
    "2. What is an object in Python?"
   ]
  },
  {
   "cell_type": "code",
   "execution_count": null,
   "id": "ad68dd5e",
   "metadata": {},
   "outputs": [],
   "source": [
    "\"\"\"\n",
    "An object in python is the instance of the class. It is a copy of the class \n",
    "with actual values. An object has its own attributes and methods.\n",
    "We use the object of a class to perform actions.\n",
    "\"\"\""
   ]
  },
  {
   "cell_type": "markdown",
   "id": "fbb94621",
   "metadata": {},
   "source": [
    "3. What is a class in Python?"
   ]
  },
  {
   "cell_type": "code",
   "execution_count": 14,
   "id": "5478b6f1",
   "metadata": {},
   "outputs": [],
   "source": [
    "\"\"\"\n",
    "A class is a blueprint. It is a template use to create objects. A keyword class \n",
    "used to create a class followed by a class_name. A class encapsulate attributes and functions into a \n",
    "single unit.\n",
    "\"\"\"\n",
    "class Intro:  # class ctreated\n",
    " # init is a constructor used to take initialize object's attributes   \n",
    "    def __init__(self,fname,lname):   \n",
    "        self.fname=fname\n",
    "        self.lname=lname\n",
    " # str constructor used to print an object     \n",
    "    def show(self): \n",
    "        print(f\"My name is {self.fname} {self.lname}.\") # Object Method"
   ]
  },
  {
   "cell_type": "code",
   "execution_count": 15,
   "id": "9891afa0",
   "metadata": {},
   "outputs": [
    {
     "name": "stdout",
     "output_type": "stream",
     "text": [
      "My name is Katyayni Jha.\n"
     ]
    }
   ],
   "source": [
    "myintro=Intro(\"Katyayni\",\"Jha\") # myintro is an object/instance of class Intro\n",
    "myintro.show()"
   ]
  },
  {
   "cell_type": "markdown",
   "id": "0f905ffc",
   "metadata": {},
   "source": [
    "4. What are attributes and methods in a class?"
   ]
  },
  {
   "cell_type": "code",
   "execution_count": null,
   "id": "bb94a9d8",
   "metadata": {},
   "outputs": [],
   "source": [
    "\"\"\"\n",
    "Attributes are the variables stored in class or objects and methods are the \n",
    "function defined within class. \n",
    "\"\"\""
   ]
  },
  {
   "cell_type": "markdown",
   "id": "2b89a08d",
   "metadata": {},
   "source": [
    "5. What is the difference between class variables and instance variables in Python?"
   ]
  },
  {
   "cell_type": "code",
   "execution_count": 11,
   "id": "001ae210",
   "metadata": {
    "scrolled": true
   },
   "outputs": [
    {
     "name": "stdout",
     "output_type": "stream",
     "text": [
      "School is in  Bogadi 2nd stage , Mysore\n",
      "School name:  RCIS\n",
      "RCIS is in Vijanagar 4th stage,Bangalore\n"
     ]
    }
   ],
   "source": [
    "\"\"\"\n",
    "Attributes- The class attributes can be defined in 2 ways-\n",
    "a) Class Attributes- The variable which is defined inside class, but outside \n",
    "of any method. It can be accessed by a class and shared by all objects. \n",
    "It is bound to class.\n",
    "\n",
    "b) Instance Attributes- The variables which is declared inside the __init__\n",
    "method. It is bound to object. Instance variables are not shared by object.\n",
    "Every object has its own copy.\n",
    "\"\"\"\n",
    "class School:\n",
    "    school_name=\"RCIS\"  # Class variables,school_name is bound to School\n",
    "    def __init__(self,city,place):  # Instance variables\n",
    "        self.place=place\n",
    "        self.city=city\n",
    "        \n",
    "school1=School(\"Mysore\",\"Bogadi 2nd stage\") \n",
    "# Access Instance variables\n",
    "print(\"School is in \",school1.place,\",\",school1.city)\n",
    "# Access Class variable\n",
    "print(\"School name: \",School.school_name) \n",
    "# Modify Instance variables\n",
    "school1.place=\"Vijanagar 4th stage\"\n",
    "school1.city=\"Bangalore\"\n",
    "print(f\"{School.school_name} is in {school1.place},{school1.city}\")"
   ]
  },
  {
   "cell_type": "markdown",
   "id": "6ac7e134",
   "metadata": {},
   "source": [
    "6. What is the purpose of the self parameter in Python class methods?"
   ]
  },
  {
   "cell_type": "code",
   "execution_count": null,
   "id": "e777aea7",
   "metadata": {},
   "outputs": [],
   "source": [
    "\"\"\"\n",
    "The \"self\" parameter is act as a pointer that points to the current object \n",
    "of the class. It is used to access Instance attributes. It has to be the first \n",
    "parameter of any function defined in the class.\n",
    "\"\"\""
   ]
  },
  {
   "cell_type": "markdown",
   "id": "072cd866",
   "metadata": {},
   "source": [
    "7. For a library management system, you have to design the \"Book\" class with OOP principles in mind. The “Book” class will have following attributes:"
   ]
  },
  {
   "cell_type": "code",
   "execution_count": 30,
   "id": "9bfd458b",
   "metadata": {},
   "outputs": [],
   "source": [
    "class Book:\n",
    "    def __init__(self,title,author,ISBN,pub_year,avail_copy):\n",
    "        self.title=title\n",
    "        self.author=author\n",
    "        self.isbn=ISBN\n",
    "        self.pubyear=pub_year\n",
    "        self.availcopy=avail_copy\n",
    "        \n",
    "    def check_outside(self):\n",
    "        if self.availcopy>1:\n",
    "            return f\"{self.title} is available.\"\n",
    "        else:\n",
    "            return  f\"{self.title} is NOT available.\"\n",
    "    \n",
    "    def return_book(self):\n",
    "        self.availcopy+=1\n",
    "        print(f\"{self.availcopy} copies of {self.title} are available now.\")\n",
    "        \n",
    "    def display_book_info(self):\n",
    "        print(f\"{self.availcopy} copies of {self.title} written by {self.author} with isbn {self.isbn} published in {self.pubyear} are in the Library.\")\n",
    "        "
   ]
  },
  {
   "cell_type": "code",
   "execution_count": 31,
   "id": "2672ed1d",
   "metadata": {},
   "outputs": [
    {
     "name": "stdout",
     "output_type": "stream",
     "text": [
      "Godan is available.\n",
      "5 copies of Godan written by Munsi Premchand with isbn 978817 published in 1916 are in the Library.\n",
      "6 copies of Godan are available now.\n"
     ]
    }
   ],
   "source": [
    "book1=Book(\"Godan\",\"Munsi Premchand\",978817,1916,5)\n",
    "print(book1.check_outside())\n",
    "book1.display_book_info()\n",
    "book1.return_book()"
   ]
  },
  {
   "cell_type": "markdown",
   "id": "f8d11486",
   "metadata": {},
   "source": [
    "8. For a ticket booking system, you have to design the \"Ticket\" class with OOP principles in mind. The “Ticket” class should have the following attributes:"
   ]
  },
  {
   "cell_type": "code",
   "execution_count": 22,
   "id": "0ae9eced",
   "metadata": {},
   "outputs": [],
   "source": [
    "class Ticket:\n",
    "    def __init__(self,ticket_id,event_name,event_date,venue,seat_no,price):\n",
    "        self.ticket=ticket_id\n",
    "        self.eventname=event_name\n",
    "        self.eventdt=event_date\n",
    "        self.venue=venue\n",
    "        self.seat_num=seat_no\n",
    "        self.price=price\n",
    "        self.is_reserved= False  # It shows ticket has Not been reserved yet.\n",
    "        \n",
    "    def reserve_ticket(self):\n",
    "        if self.is_reserved==False: # Condition to check reservation status\n",
    "            self.is_reserved=True   \n",
    "            print(f\"{self.ticket} is Booked with seat number {self.seat_num}.\")\n",
    "        else:\n",
    "            print(f\"{self.ticket} is again available for Booking.\")\n",
    "            \n",
    "    def cancel_reservation(self):\n",
    "        if self.is_reserved== True:\n",
    "            print(f\"{self.ticket} is cancelled.\")\n",
    "        else:\n",
    "            print(f\"{self.ticket} is Not yet booked.\")   \n",
    "            \n",
    "    def display_ticket_info(self):\n",
    "        print(\"Ticket information: \")\n",
    "        print(f\"Ticket number: {self.ticket}\")\n",
    "        print(f\"Event: {self.eventname}\")\n",
    "        print(f\"Date: {self.eventdt}\")\n",
    "        print(f\"Venue: {self.venue}\")\n",
    "        print(f\"Seat number: {self.seat_num}\")\n",
    "        print(f\"Price: {self.price}, Status: {self.is_reserved}\")"
   ]
  },
  {
   "cell_type": "code",
   "execution_count": 23,
   "id": "2ba24ba7",
   "metadata": {},
   "outputs": [
    {
     "name": "stdout",
     "output_type": "stream",
     "text": [
      "T01 is Booked with seat number T01-W1.\n",
      "Ticket information: \n",
      "Ticket number: T01\n",
      "Event: IPL\n",
      "Date: 23/03/2024\n",
      "Venue: Wankhede stadium\n",
      "Seat number: T01-W1\n",
      "Price: 2000, Status: True\n",
      "T01 is cancelled.\n",
      "T01 is again available for Booking.\n",
      "T02 is Booked with seat number T02-W2.\n"
     ]
    }
   ],
   "source": [
    "ticket1=Ticket(\"T01\",\"IPL\",\"23/03/2024\",\"Wankhede stadium\",\"T01-W1\",2000)\n",
    "ticket2=Ticket(\"T02\",\"IPL\",\"23/03/2024\",\"Wankhede stadium\",\"T02-W2\",2000)\n",
    "ticket1.reserve_ticket()\n",
    "ticket1.display_ticket_info()\n",
    "ticket1.cancel_reservation()\n",
    "ticket1.reserve_ticket()\n",
    "ticket2.reserve_ticket()"
   ]
  },
  {
   "cell_type": "markdown",
   "id": "8c36741c",
   "metadata": {},
   "source": [
    "9. You are creating a shopping cart for an e-commerce website. Using OOP to model the \"ShoppingCart\" functionality the class should contain following attributes and methods:"
   ]
  },
  {
   "cell_type": "code",
   "execution_count": 59,
   "id": "dfa27e66",
   "metadata": {},
   "outputs": [],
   "source": [
    "class ShoppingCart:\n",
    "    def __init__(self):\n",
    "        self.item_list=[]   # Empty list is formed\n",
    "        \n",
    "    def add_item(self,item):\n",
    "        self.item_list.append(item) # Append add item in the list\n",
    "        \n",
    "    def remove_item(self, item):\n",
    "        if item in self.item_list:\n",
    "            self.item_list.remove(item)  # Remove delete specific item from list\n",
    "            print(f\"{item} is removed.\")\n",
    "        else:\n",
    "            print(f\"{item} is not found.\")\n",
    "            \n",
    "    def view_cart(self):\n",
    "        if len(self.item_list)>1:\n",
    "            print(f\"My Shopping Cart : {self.item_list}\")\n",
    "        else:\n",
    "            print(f\"Add item in the cart.\")\n",
    "        \n",
    "    def clear_cart(self):\n",
    "        self.item_list.clear()\n",
    "        print(f\"Cart is empty.\")"
   ]
  },
  {
   "cell_type": "code",
   "execution_count": 64,
   "id": "e5ded179",
   "metadata": {},
   "outputs": [
    {
     "name": "stdout",
     "output_type": "stream",
     "text": [
      "My Shopping Cart : ['Apple', 'Banana', 'Mango', 'Pineapple', 'Watermelon', 'Avacado', 'Grapes']\n",
      "Pineapple is removed.\n",
      "My Shopping Cart : ['Apple', 'Banana', 'Mango', 'Watermelon', 'Avacado', 'Grapes']\n",
      "Cart is empty.\n",
      "Add item in the cart.\n"
     ]
    }
   ],
   "source": [
    "cart1=ShoppingCart()   # creating an object\n",
    "cart1.add_item(\"Apple\")\n",
    "cart1.add_item(\"Banana\")\n",
    "cart1.add_item(\"Mango\")\n",
    "cart1.add_item(\"Pineapple\")\n",
    "cart1.add_item(\"Watermelon\")\n",
    "cart1.add_item(\"Avacado\")\n",
    "cart1.add_item(\"Grapes\")\n",
    "cart1.view_cart()\n",
    "cart1.remove_item(\"Pineapple\")\n",
    "cart1.view_cart()\n",
    "cart1.clear_cart()\n",
    "cart1.view_cart()"
   ]
  },
  {
   "cell_type": "markdown",
   "id": "22d27eda",
   "metadata": {},
   "source": [
    "10. Imagine a school management system. You have to design the \"Student\" class using OOP concepts.The “Student” class has the following attributes:"
   ]
  },
  {
   "cell_type": "code",
   "execution_count": 82,
   "id": "5fb60475",
   "metadata": {},
   "outputs": [],
   "source": [
    "class Student:\n",
    "    def __init__(self,name,age,grade,student_id):\n",
    "        self.name=name\n",
    "        self.age=age\n",
    "        self.grade=grade\n",
    "        self.st_id=student_id\n",
    "        self.attendance={}\n",
    "      \n",
    "    def update_attendance(self,date,status):\n",
    "        self.attendance[date]=status\n",
    "        \n",
    "    def  get_attendance(self):\n",
    "        return f\"Attendance of {self.name}: {self.attendance}\"\n",
    "                \n",
    "    def get_avg_attendance(self):\n",
    "        total_days=len(self.attendance)\n",
    "        present_days=0\n",
    "        for i in self.attendance.values():\n",
    "            if i==\"Present\":\n",
    "                present_days+=1\n",
    "        percentage=round((present_days/total_days)*100)\n",
    "        return f\"Avg attendance of {self.name} is {percentage} % \"\n",
    "        "
   ]
  },
  {
   "cell_type": "code",
   "execution_count": 86,
   "id": "4a82e33b",
   "metadata": {},
   "outputs": [
    {
     "name": "stdout",
     "output_type": "stream",
     "text": [
      "Attendance of Shivangi: {'12/12/22': 'Present', '13/12/22': 'Present', '14/12/22': 'Present', '15/12/22': 'Present', '16/12/22': 'Absent', '17/12/22': 'Present', '18/12/22': 'Absent'}\n",
      "Avg attendance of Shivangi is 71 % \n"
     ]
    }
   ],
   "source": [
    "student1=Student(\"Shivangi\",13,\"VIII\",15)\n",
    "student1.update_attendance(\"12/12/22\",\"Present\")\n",
    "student1.update_attendance(\"13/12/22\",\"Present\")\n",
    "student1.update_attendance(\"14/12/22\",\"Present\")\n",
    "student1.update_attendance(\"15/12/22\",\"Present\")\n",
    "student1.update_attendance(\"16/12/22\",\"Absent\")\n",
    "student1.update_attendance(\"17/12/22\",\"Present\")\n",
    "student1.update_attendance(\"18/12/22\",\"Absent\")\n",
    "print(student1.get_attendance())\n",
    "print(student1. get_avg_attendance())"
   ]
  },
  {
   "cell_type": "code",
   "execution_count": null,
   "id": "cebf1658",
   "metadata": {},
   "outputs": [],
   "source": []
  }
 ],
 "metadata": {
  "kernelspec": {
   "display_name": "Python 3 (ipykernel)",
   "language": "python",
   "name": "python3"
  },
  "language_info": {
   "codemirror_mode": {
    "name": "ipython",
    "version": 3
   },
   "file_extension": ".py",
   "mimetype": "text/x-python",
   "name": "python",
   "nbconvert_exporter": "python",
   "pygments_lexer": "ipython3",
   "version": "3.10.9"
  }
 },
 "nbformat": 4,
 "nbformat_minor": 5
}
