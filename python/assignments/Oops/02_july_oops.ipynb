{
 "cells": [
  {
   "cell_type": "markdown",
   "id": "befba28c",
   "metadata": {},
   "source": [
    "# OOPs Assignment-2nd July"
   ]
  },
  {
   "cell_type": "markdown",
   "id": "134d4ab1",
   "metadata": {},
   "source": [
    "1. Explain what inheritance is in object-oriented programming and why it is used."
   ]
  },
  {
   "cell_type": "code",
   "execution_count": 1,
   "id": "f8bec442",
   "metadata": {},
   "outputs": [],
   "source": [
    "\"\"\"\n",
    "Inheritance- It is an important concept of object oriented programming. It allows\n",
    "to create child class/subclasses which can inherit properties(attributes and methods)\n",
    "of a Base/parent class.\n",
    "It is used to create a hierarchy of classes and allow reusability of code. \n",
    "\"\"\"\n",
    "class Subject:  # Base class\n",
    "    pass\n",
    "class Chemistry(Subject):  # Child class 1\n",
    "    pass\n",
    "class Physics(Subject):     # Child class 2\n",
    "    pass"
   ]
  },
  {
   "cell_type": "markdown",
   "id": "2e570258",
   "metadata": {},
   "source": [
    "2. Discuss the concept of single inheritance and multiple inheritance, highlighting their differences and advantages."
   ]
  },
  {
   "cell_type": "code",
   "execution_count": 4,
   "id": "c4d14a40",
   "metadata": {},
   "outputs": [],
   "source": [
    "\"\"\"\n",
    "Single Inheritance a child class orderived class will inherit properties of a \n",
    "single parent class. On the other hand, in multiple inheritance derived class \n",
    "will inherit properties of multiple class. \n",
    "\"\"\"\n",
    "# Multiple Inheritance\n",
    "class Animal:   # Parent class 1\n",
    "    def __init__(self,name):\n",
    "        self.name=name\n",
    "    def eat(self):\n",
    "        print(f\"{self.name} is eating.\")\n",
    "class Land:       # Parent class 2\n",
    "    def land(self):\n",
    "        print(f\"{self.name} lives on land.\")\n",
    "class Water:       # Parent class 3\n",
    "    def water(self):\n",
    "        print(f\"{self.name} lives under water.\")\n",
    "class Amphibian(Animal,Land,Water):   # Derived class\n",
    "    def land_water(self):\n",
    "        super().eat()\n",
    "        print(f\"{self.name} lives on both land as well as water.\")"
   ]
  },
  {
   "cell_type": "code",
   "execution_count": 5,
   "id": "4b601c19",
   "metadata": {},
   "outputs": [
    {
     "name": "stdout",
     "output_type": "stream",
     "text": [
      "Frog is eating.\n",
      "Frog lives on both land as well as water.\n"
     ]
    }
   ],
   "source": [
    "animal1=Amphibian(\"Frog\")  # Instantiation\n",
    "animal1.land_water()"
   ]
  },
  {
   "cell_type": "code",
   "execution_count": 14,
   "id": "315a03a5",
   "metadata": {},
   "outputs": [],
   "source": [
    "# Example of single inheitance\n",
    "class Animal:               # Parent class\n",
    "    def __init__(self,name):\n",
    "        self.name=name\n",
    "        \n",
    "    def sleep(self):\n",
    "        print(f\"{self.name} sleeps on couch.\")\n",
    "        \n",
    "    def eat(self):\n",
    "        print(f\"{self.name} love to eat Pedigree food.\")\n",
    "        \n",
    "class Dog(Animal):        # Derived class 1\n",
    "    def bark(self):\n",
    "        super().eat()\n",
    "        print(f\"{self.name} sounds woof woof\")\n",
    "class Cat(Animal):   # Derived class 2\n",
    "    def meow(self):\n",
    "        super().eat()\n",
    "        print(f\"{self.name} sounds meow-meow\")"
   ]
  },
  {
   "cell_type": "code",
   "execution_count": 15,
   "id": "6d345349",
   "metadata": {},
   "outputs": [
    {
     "name": "stdout",
     "output_type": "stream",
     "text": [
      "Goofy love to eat Pedigree food.\n",
      "Goofy sounds woof woof\n",
      "Missy love to eat Pedigree food.\n",
      "Missy sounds meow-meow\n"
     ]
    }
   ],
   "source": [
    "mydog=Dog(\"Goofy\")\n",
    "mydog.bark()\n",
    "mycat=Cat(\"Missy\")\n",
    "mycat.meow()"
   ]
  },
  {
   "cell_type": "code",
   "execution_count": null,
   "id": "c6bea089",
   "metadata": {},
   "outputs": [],
   "source": [
    "\"\"\"\n",
    "Advantage of single inheritance is Simplicity, easy to maintain and understand.\n",
    "Advantage of multiple inheritance is Code reusability , Richness of functionality\n",
    "and Flexibility of derived class.\n",
    "Differences-\n",
    "Single inheritance program is less complex than multiple inheritance. The \n",
    "possibility of ambiguity is more in multiple inheritance comparative to the \n",
    "previous one.\n",
    "\n",
    "\"\"\""
   ]
  },
  {
   "cell_type": "markdown",
   "id": "4f83fde5",
   "metadata": {},
   "source": [
    "3. Explain the terms \"base class\" and \"derived class\" in the context of inheritance."
   ]
  },
  {
   "cell_type": "code",
   "execution_count": null,
   "id": "9babe2be",
   "metadata": {},
   "outputs": [],
   "source": [
    "\"\"\"\n",
    "Base class also known as parent class which encapsulate all object attributes and method\n",
    "Parent class is the class from which classes can be derived.\n",
    "Derived class which is also known as child class inherit all properties (attributes and methods)\n",
    "of Base class and alongwith some additional properties.\n",
    "\"\"\""
   ]
  },
  {
   "cell_type": "markdown",
   "id": "d90b9ca6",
   "metadata": {},
   "source": [
    "4. What is the significance of the \"protected\" access modifier in inheritance? How doesit differ from \"private\" and \"public\" modifiers?"
   ]
  },
  {
   "cell_type": "code",
   "execution_count": 22,
   "id": "71a16f07",
   "metadata": {},
   "outputs": [
    {
     "name": "stdout",
     "output_type": "stream",
     "text": [
      "Name of customer: Raju Rastogi and account number is 10457\n",
      "Private method cannot be accessed outsiede of the class directly\n"
     ]
    }
   ],
   "source": [
    "\"\"\"\n",
    "Access Modifier is a convention rather than strict enforcement which is implicitly\n",
    "defined in the python. Python provides convention for indicating the access \n",
    "level of attributes and methods by using naming convention.\n",
    "3 types- Public, Private and Protected \n",
    "\n",
    "Protected access modifier used to signify that members of the class is protected\n",
    "and shall not be accessed directly from outside or within the class although \n",
    "python doesnot implement this strictly, it is a convention to treat an attribute \n",
    "or method as protected. (_) single underscore is used before an attribute or\n",
    "method to denote protected.\n",
    "Public members are regular attributes and methods that can be accessed from anywhere\n",
    "within the program. On the otherhand, Private members are attributes and methods \n",
    "that cannot be accessed from outside of the class. We use (__) double underscore\n",
    "to denote private members.\n",
    "\n",
    "\"\"\"\n",
    "class Bank:\n",
    "    def __init__(self,account_num,name):\n",
    "        self._account_num=account_num  # Protected attribute\n",
    "        self.name=name                 # Public attribute\n",
    "    def __calculate_interest(self):    # Private method\n",
    "        pass\n",
    "    def show(self):\n",
    "        print(f\"Name of customer: {self.name} and account number is {self._account_num}\")\n",
    "customer1=Bank(10457,\"Raju Rastogi\")\n",
    "customer1._account_num      # Not recommended as it is protected but not give any error\n",
    "customer1.show()\n",
    "try:\n",
    "    customer1.__calculate_interest() \n",
    "except(AttributeError):\n",
    "     print(\"Private method cannot be accessed outsiede of the class directly\")"
   ]
  },
  {
   "cell_type": "markdown",
   "id": "2258e2a0",
   "metadata": {},
   "source": [
    "5. What is the purpose of the \"super\" keyword in inheritance? Provide an example."
   ]
  },
  {
   "cell_type": "code",
   "execution_count": null,
   "id": "c88ccdbb",
   "metadata": {},
   "outputs": [],
   "source": [
    "\"\"\"\n",
    "\"super\" keyword is used in Class Inheritance. In derived class we use \n",
    "super().attribute_name or super().method_name to inherit Base class attributes or methods. \n",
    "super() function return object of Base/parent class.\n",
    "\"\"\""
   ]
  },
  {
   "cell_type": "markdown",
   "id": "8fd83053",
   "metadata": {},
   "source": [
    "6. Create a base class called \"Vehicle\" with attributes like \"make\", \"model\", and \"year\".Then, create a derived class called \"Car\" that inherits from \"Vehicle\" and adds an attribute called \"fuel_type\". Implement appropriate methods in both classes."
   ]
  },
  {
   "cell_type": "code",
   "execution_count": 38,
   "id": "63b68090",
   "metadata": {},
   "outputs": [],
   "source": [
    "class Vehicle:\n",
    "    def __init__(self,make,model,year):\n",
    "        self.make=make\n",
    "        self.model=model\n",
    "        self.year=year\n",
    "    def show_info(self):\n",
    "        print(f\"{self.make} {self.model} made in {self.year} ready to go!\")\n",
    "        \n",
    "class Car(Vehicle):    # Inheritance\n",
    "    def __init__(self,make,model,year,fuel_type):\n",
    "        super().__init__(make,model,year)  # super() return base class attributes\n",
    "        self.fuel_type=fuel_type    \n",
    "    def  fuel(self):\n",
    "        super().show_info()\n",
    "        print(f\"{self.make} {self.model} is a {self.fuel_type} car.\")"
   ]
  },
  {
   "cell_type": "code",
   "execution_count": 40,
   "id": "39d2d86c",
   "metadata": {},
   "outputs": [
    {
     "name": "stdout",
     "output_type": "stream",
     "text": [
      "Mahindra XUV-700 made in 2021 ready to go!\n",
      "Mahindra XUV-700 is a Petrol car.\n"
     ]
    }
   ],
   "source": [
    "mycar=Car(\"Mahindra\",\"XUV-700\",2021,\"Petrol\")\n",
    "mycar.fuel()"
   ]
  },
  {
   "cell_type": "markdown",
   "id": "1af1de43",
   "metadata": {},
   "source": [
    "7. Create a base class called \"Employee\" with attributes like \"name\" and \"salary.\"Derive two classes, \"Manager\" and \"Developer,\" from \"Employee.\" Add an additional attribute called \"department\" for the \"Manager\" class and \"programming_language\" for the \"Developer\" class."
   ]
  },
  {
   "cell_type": "code",
   "execution_count": 45,
   "id": "5f45a813",
   "metadata": {},
   "outputs": [],
   "source": [
    "class Employee:\n",
    "    def __init__(self,name,salary):\n",
    "        self.name=name\n",
    "        self.salary=salary\n",
    "    def display_info(self):  \n",
    "        print(f\"Name: {self.name}, Salary: {self.salary}\")\n",
    "\n",
    "class Manager(Employee):\n",
    "    def __init__(self,name,salary,department):\n",
    "        self.dept=department\n",
    "        super().__init__(name,salary)\n",
    "    def mgr_info(self):\n",
    "        super().display_info()\n",
    "        print(f\"{self.name} belongs to {self.dept} department.\")\n",
    "class Developer(Employee):\n",
    "    def __init__(self,name,salary,prog_lang):\n",
    "        self.prog_lang=prog_lang\n",
    "        super().__init__(name,salary)\n",
    "    def dev_info(self):\n",
    "        super().display_info()\n",
    "        print(f\"{self.name} is {self.prog_lang} developer.\")\n",
    "                "
   ]
  },
  {
   "cell_type": "code",
   "execution_count": 46,
   "id": "34757dc6",
   "metadata": {},
   "outputs": [
    {
     "name": "stdout",
     "output_type": "stream",
     "text": [
      "Name: Sumit Kumar, Salary: 90000\n",
      "Sumit Kumar belongs to PM department.\n",
      "Name: Katyayni jha, Salary: 45000\n",
      "Katyayni jha is Python developer.\n"
     ]
    }
   ],
   "source": [
    "emp1=Manager(\"Sumit Kumar\",90000,\"PM\")\n",
    "emp1.mgr_info()\n",
    "emp2=Developer(\"Katyayni jha\",45000,\"Python\")\n",
    "emp2.dev_info()"
   ]
  },
  {
   "cell_type": "markdown",
   "id": "ccecf6c3",
   "metadata": {},
   "source": [
    "8. Design a base class called \"Shape\" with attributes like \"colour\" and \"border_width.\"Create derived classes, \"Rectangle\" and \"Circle,\" that inherit from \"Shape\" and add specific attributes like \"length\" and \"width\" for the \"Rectangle\" class and \"radius\" for the \"Circle\" class."
   ]
  },
  {
   "cell_type": "code",
   "execution_count": 6,
   "id": "abe37567",
   "metadata": {},
   "outputs": [],
   "source": [
    "class Shape:\n",
    "    def __init__(self,color,border_width):\n",
    "        self.color=color\n",
    "        self.border_width=border_width\n",
    "class Rectangle(Shape):\n",
    "    def __init__(self,color,border_width,length,width):\n",
    "            self.length=length\n",
    "            self.width=width\n",
    "            super().__init__(color,border_width)\n",
    "            \n",
    "    def rec_info(self):\n",
    "            print(f\"Length and width of a rectangle is {self.length}cm,{self.width}cm.\") \n",
    "            print(f\"The border width of {self.color} rectangle is {self.border_width}cm .\")\n",
    "class Circle(Shape):\n",
    "    def __init__(self,color,border_width,radius):\n",
    "            self.radius=radius\n",
    "            super().__init__(color,border_width)\n",
    "            \n",
    "    def cir_info(self):\n",
    "            print(f\"The radius is {self.radius}cm.\")\n",
    "            print(f\"The border width of {self.color} circle is {self.border_width}cm .\")"
   ]
  },
  {
   "cell_type": "code",
   "execution_count": 7,
   "id": "03933d52",
   "metadata": {},
   "outputs": [
    {
     "name": "stdout",
     "output_type": "stream",
     "text": [
      "Length and width of a rectangle is 12cm,15cm.\n",
      "The border width of Green rectangle is 60cm .\n",
      "The radius is 4cm.\n",
      "The border width of Red circle is 45cm .\n"
     ]
    }
   ],
   "source": [
    "rec1=Rectangle(\"Green\",60,12,15)\n",
    "rec1.rec_info()\n",
    "circle1=Circle(\"Red\",45,4)\n",
    "circle1.cir_info()"
   ]
  },
  {
   "cell_type": "markdown",
   "id": "ef689dd1",
   "metadata": {},
   "source": [
    "9. Create a base class called \"Device\" with attributes like \"brand\" and \"model.\" Derive two classes, \"Phone\" and \"Tablet,\" from \"Device.\" Add specific attributes like \"screen_size\" for the \"Phone\" class and \"battery_capacity\" for the \"Tablet\" class."
   ]
  },
  {
   "cell_type": "code",
   "execution_count": 85,
   "id": "9924e0de",
   "metadata": {},
   "outputs": [],
   "source": [
    "class Device:\n",
    "    def __init__(self,brand,model):\n",
    "        self.brand=brand\n",
    "        self.model=model\n",
    "        \n",
    "class Phone(Device):\n",
    "    def __init__(self,brand,model,screen_size):\n",
    "        self.screen_size=screen_size\n",
    "        super(). __init__(brand,model)\n",
    "    def display_info(self):\n",
    "        print(f\"The screen size of {self.brand} {self.model} is { self.screen_size}cm.\")\n",
    "\n",
    "class Tablet(Device):\n",
    "    def __init__(self,brand,model,battery_capacity):\n",
    "        self.battery_capacity=battery_capacity\n",
    "        super(). __init__(brand,model)\n",
    "    def tab_info(self):\n",
    "        print(f\"The battery capacity of {self.brand}-{self.model} tab is {self.battery_capacity}mAh.\")      "
   ]
  },
  {
   "cell_type": "code",
   "execution_count": 86,
   "id": "fe2b002a",
   "metadata": {},
   "outputs": [
    {
     "name": "stdout",
     "output_type": "stream",
     "text": [
      "The screen size of Samsung M-15 is 16.72cm.\n",
      "The battery capacity of Lenevo-m10 tab is 4850mAh.\n"
     ]
    }
   ],
   "source": [
    "myphone=Phone(\"Samsung\",\"M-15\",16.72)\n",
    "myphone.display_info()\n",
    "mytab=Tablet(\"Lenevo\",\"m10\",4850)\n",
    "mytab.tab_info()"
   ]
  },
  {
   "cell_type": "markdown",
   "id": "3d44b39e",
   "metadata": {},
   "source": [
    "10. Create a base class called \"BankAccount\" with attributes like \"account_number\" and \"balance.\" Derive two classes, \"SavingsAccount\" and \"CheckingAccount,\" from \"BankAccount.\" Add specific methods like \"calculate_interest\" for the \"SavingsAccount\" class and \"deduct_fees\" for the \"CheckingAccount\" class."
   ]
  },
  {
   "cell_type": "code",
   "execution_count": 4,
   "id": "fea5579c",
   "metadata": {},
   "outputs": [],
   "source": [
    "class BankAccount:\n",
    "    def __init__(self,acc_num,bal=0):\n",
    "        self.acc_num=acc_num\n",
    "        self.bal=bal\n",
    "class SavingAccount(BankAccount):\n",
    "    def __init__(self,acc_num,bal,int_rate):\n",
    "        super().__init__(acc_num,bal)\n",
    "        self.int_rate=int_rate\n",
    "    def cal_int(self):\n",
    "        interest=(self.bal*self.int_rate*1)/100\n",
    "        self.bal+=interest\n",
    "        print(f\"The saving account interest rate is {self.int_rate}\")\n",
    "        print(f\"Total balance: Rs{self.bal}\")\n",
    "        \n",
    "class CheckingAccount(BankAccount):\n",
    "    def  __init__(self,acc_num,bal=0):\n",
    "        super().__init__(acc_num,bal)\n",
    "    def deduct_fees(self):\n",
    "        if self.bal<10000:\n",
    "            self.bal-=200\n",
    "            print(f\"Balanced after deducting insufficient fund fee is Rs{self.bal}\")   \n",
    "        else:\n",
    "            print(f\"Balance is : {self.bal}\")"
   ]
  },
  {
   "cell_type": "code",
   "execution_count": 5,
   "id": "c38230cd",
   "metadata": {},
   "outputs": [
    {
     "name": "stdout",
     "output_type": "stream",
     "text": [
      "The saving account interest rate is 4\n",
      "Total balance: Rs3120.0\n",
      "Balanced after deducting insufficient fund fee is Rs8400\n",
      "Balance is : 28600\n"
     ]
    }
   ],
   "source": [
    "acc1=SavingAccount(\"SB/10457\",3000,4)\n",
    "acc1.cal_int()\n",
    "acc2=CheckingAccount(\"CA/57743\",8600)\n",
    "acc2.deduct_fees()\n",
    "acc3=CheckingAccount(\"CA/57780\",28600)\n",
    "acc3.deduct_fees()"
   ]
  },
  {
   "cell_type": "code",
   "execution_count": null,
   "id": "c3b17a26",
   "metadata": {},
   "outputs": [],
   "source": []
  }
 ],
 "metadata": {
  "kernelspec": {
   "display_name": "Python 3 (ipykernel)",
   "language": "python",
   "name": "python3"
  },
  "language_info": {
   "codemirror_mode": {
    "name": "ipython",
    "version": 3
   },
   "file_extension": ".py",
   "mimetype": "text/x-python",
   "name": "python",
   "nbconvert_exporter": "python",
   "pygments_lexer": "ipython3",
   "version": "3.10.9"
  }
 },
 "nbformat": 4,
 "nbformat_minor": 5
}
